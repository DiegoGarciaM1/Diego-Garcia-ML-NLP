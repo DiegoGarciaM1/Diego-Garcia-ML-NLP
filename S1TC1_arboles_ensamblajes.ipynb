{
  "cells": [
    {
      "cell_type": "markdown",
      "metadata": {
        "id": "YTqn7LyVxdwN"
      },
      "source": [
        "![image info](https://raw.githubusercontent.com/albahnsen/MIAD_ML_and_NLP/main/images/banner_1.png)"
      ]
    },
    {
      "cell_type": "markdown",
      "metadata": {
        "id": "BfYqV1xBxdwQ"
      },
      "source": [
        "# Taller: Construcción e implementación de árboles de decisión y métodos de ensamblaje\n",
        "\n",
        "En este taller podrá poner en práctica los sus conocimientos sobre construcción e implementación de árboles de decisión y métodos de ensamblajes. El taller está constituido por 9 puntos, 5 relacionados con árboles de decisión (parte A) y 4 con métodos de ensamblaje (parte B)."
      ]
    },
    {
      "cell_type": "markdown",
      "metadata": {
        "id": "29iYZPDdxdwQ"
      },
      "source": [
        "## Parte A - Árboles de decisión\n",
        "\n",
        "En esta parte del taller se usará el conjunto de datos de Capital Bikeshare de Kaggle, donde cada observación representa el alquiler de bicicletas durante una hora y día determinado. Para más detalles puede visitar los siguientes enlaces: [datos](https://archive.ics.uci.edu/ml/machine-learning-databases/00275/Bike-Sharing-Dataset.zip), [dicccionario de datos](https://archive.ics.uci.edu/ml/datasets/Bike+Sharing+Dataset#)."
      ]
    },
    {
      "cell_type": "markdown",
      "metadata": {
        "id": "fign69ypxdwQ"
      },
      "source": [
        "### Datos prestamo de bicicletas"
      ]
    },
    {
      "cell_type": "code",
      "execution_count": 56,
      "metadata": {
        "id": "wfM6tZUJxdwR"
      },
      "outputs": [],
      "source": [
        "import warnings\n",
        "warnings.filterwarnings('ignore')"
      ]
    },
    {
      "cell_type": "code",
      "execution_count": 57,
      "metadata": {
        "id": "3CrXRJctxdwR"
      },
      "outputs": [],
      "source": [
        "# Importación de librerías\n",
        "%matplotlib inline\n",
        "import pandas as pd\n",
        "import numpy as np\n",
        "from sklearn.model_selection import cross_val_score\n",
        "from sklearn.linear_model import LinearRegression\n",
        "from sklearn.tree import DecisionTreeRegressor, export_graphviz\n",
        "from sklearn.model_selection import train_test_split\n",
        "import matplotlib. pyplot as plt\n",
        "from sklearn.metrics import mean_squared_error\n",
        "from sklearn.model_selection import cross_val_score\n",
        "from sklearn.tree import DecisionTreeClassifier\n",
        "from sklearn.metrics import accuracy_score\n",
        "from sklearn.metrics import precision_score\n",
        "from sklearn.metrics import confusion_matrix\n",
        "from sklearn import metrics\n",
        "import seaborn as sb\n",
        "from sklearn.metrics import f1_score\n",
        "from sklearn.linear_model import LogisticRegression\n",
        "from sklearn.ensemble import BaggingClassifier"
      ]
    },
    {
      "cell_type": "code",
      "execution_count": 58,
      "metadata": {
        "colab": {
          "base_uri": "https://localhost:8080/",
          "height": 237
        },
        "id": "XoQI8EL8xdwS",
        "outputId": "56f11e78-841f-47b5-b411-4c4f44765e46"
      },
      "outputs": [
        {
          "output_type": "execute_result",
          "data": {
            "text/plain": [
              "                     season  holiday  workingday  weather  temp   atemp  \\\n",
              "datetime                                                                  \n",
              "2011-01-01 00:00:00       1        0           0        1  9.84  14.395   \n",
              "2011-01-01 01:00:00       1        0           0        1  9.02  13.635   \n",
              "2011-01-01 02:00:00       1        0           0        1  9.02  13.635   \n",
              "2011-01-01 03:00:00       1        0           0        1  9.84  14.395   \n",
              "2011-01-01 04:00:00       1        0           0        1  9.84  14.395   \n",
              "\n",
              "                     humidity  windspeed  casual  registered  total  hour  \n",
              "datetime                                                                   \n",
              "2011-01-01 00:00:00        81        0.0       3          13     16     0  \n",
              "2011-01-01 01:00:00        80        0.0       8          32     40     1  \n",
              "2011-01-01 02:00:00        80        0.0       5          27     32     2  \n",
              "2011-01-01 03:00:00        75        0.0       3          10     13     3  \n",
              "2011-01-01 04:00:00        75        0.0       0           1      1     4  "
            ],
            "text/html": [
              "\n",
              "  <div id=\"df-76d013cf-a52b-40ca-b8b9-8e3571f21353\">\n",
              "    <div class=\"colab-df-container\">\n",
              "      <div>\n",
              "<style scoped>\n",
              "    .dataframe tbody tr th:only-of-type {\n",
              "        vertical-align: middle;\n",
              "    }\n",
              "\n",
              "    .dataframe tbody tr th {\n",
              "        vertical-align: top;\n",
              "    }\n",
              "\n",
              "    .dataframe thead th {\n",
              "        text-align: right;\n",
              "    }\n",
              "</style>\n",
              "<table border=\"1\" class=\"dataframe\">\n",
              "  <thead>\n",
              "    <tr style=\"text-align: right;\">\n",
              "      <th></th>\n",
              "      <th>season</th>\n",
              "      <th>holiday</th>\n",
              "      <th>workingday</th>\n",
              "      <th>weather</th>\n",
              "      <th>temp</th>\n",
              "      <th>atemp</th>\n",
              "      <th>humidity</th>\n",
              "      <th>windspeed</th>\n",
              "      <th>casual</th>\n",
              "      <th>registered</th>\n",
              "      <th>total</th>\n",
              "      <th>hour</th>\n",
              "    </tr>\n",
              "    <tr>\n",
              "      <th>datetime</th>\n",
              "      <th></th>\n",
              "      <th></th>\n",
              "      <th></th>\n",
              "      <th></th>\n",
              "      <th></th>\n",
              "      <th></th>\n",
              "      <th></th>\n",
              "      <th></th>\n",
              "      <th></th>\n",
              "      <th></th>\n",
              "      <th></th>\n",
              "      <th></th>\n",
              "    </tr>\n",
              "  </thead>\n",
              "  <tbody>\n",
              "    <tr>\n",
              "      <th>2011-01-01 00:00:00</th>\n",
              "      <td>1</td>\n",
              "      <td>0</td>\n",
              "      <td>0</td>\n",
              "      <td>1</td>\n",
              "      <td>9.84</td>\n",
              "      <td>14.395</td>\n",
              "      <td>81</td>\n",
              "      <td>0.0</td>\n",
              "      <td>3</td>\n",
              "      <td>13</td>\n",
              "      <td>16</td>\n",
              "      <td>0</td>\n",
              "    </tr>\n",
              "    <tr>\n",
              "      <th>2011-01-01 01:00:00</th>\n",
              "      <td>1</td>\n",
              "      <td>0</td>\n",
              "      <td>0</td>\n",
              "      <td>1</td>\n",
              "      <td>9.02</td>\n",
              "      <td>13.635</td>\n",
              "      <td>80</td>\n",
              "      <td>0.0</td>\n",
              "      <td>8</td>\n",
              "      <td>32</td>\n",
              "      <td>40</td>\n",
              "      <td>1</td>\n",
              "    </tr>\n",
              "    <tr>\n",
              "      <th>2011-01-01 02:00:00</th>\n",
              "      <td>1</td>\n",
              "      <td>0</td>\n",
              "      <td>0</td>\n",
              "      <td>1</td>\n",
              "      <td>9.02</td>\n",
              "      <td>13.635</td>\n",
              "      <td>80</td>\n",
              "      <td>0.0</td>\n",
              "      <td>5</td>\n",
              "      <td>27</td>\n",
              "      <td>32</td>\n",
              "      <td>2</td>\n",
              "    </tr>\n",
              "    <tr>\n",
              "      <th>2011-01-01 03:00:00</th>\n",
              "      <td>1</td>\n",
              "      <td>0</td>\n",
              "      <td>0</td>\n",
              "      <td>1</td>\n",
              "      <td>9.84</td>\n",
              "      <td>14.395</td>\n",
              "      <td>75</td>\n",
              "      <td>0.0</td>\n",
              "      <td>3</td>\n",
              "      <td>10</td>\n",
              "      <td>13</td>\n",
              "      <td>3</td>\n",
              "    </tr>\n",
              "    <tr>\n",
              "      <th>2011-01-01 04:00:00</th>\n",
              "      <td>1</td>\n",
              "      <td>0</td>\n",
              "      <td>0</td>\n",
              "      <td>1</td>\n",
              "      <td>9.84</td>\n",
              "      <td>14.395</td>\n",
              "      <td>75</td>\n",
              "      <td>0.0</td>\n",
              "      <td>0</td>\n",
              "      <td>1</td>\n",
              "      <td>1</td>\n",
              "      <td>4</td>\n",
              "    </tr>\n",
              "  </tbody>\n",
              "</table>\n",
              "</div>\n",
              "      <button class=\"colab-df-convert\" onclick=\"convertToInteractive('df-76d013cf-a52b-40ca-b8b9-8e3571f21353')\"\n",
              "              title=\"Convert this dataframe to an interactive table.\"\n",
              "              style=\"display:none;\">\n",
              "        \n",
              "  <svg xmlns=\"http://www.w3.org/2000/svg\" height=\"24px\"viewBox=\"0 0 24 24\"\n",
              "       width=\"24px\">\n",
              "    <path d=\"M0 0h24v24H0V0z\" fill=\"none\"/>\n",
              "    <path d=\"M18.56 5.44l.94 2.06.94-2.06 2.06-.94-2.06-.94-.94-2.06-.94 2.06-2.06.94zm-11 1L8.5 8.5l.94-2.06 2.06-.94-2.06-.94L8.5 2.5l-.94 2.06-2.06.94zm10 10l.94 2.06.94-2.06 2.06-.94-2.06-.94-.94-2.06-.94 2.06-2.06.94z\"/><path d=\"M17.41 7.96l-1.37-1.37c-.4-.4-.92-.59-1.43-.59-.52 0-1.04.2-1.43.59L10.3 9.45l-7.72 7.72c-.78.78-.78 2.05 0 2.83L4 21.41c.39.39.9.59 1.41.59.51 0 1.02-.2 1.41-.59l7.78-7.78 2.81-2.81c.8-.78.8-2.07 0-2.86zM5.41 20L4 18.59l7.72-7.72 1.47 1.35L5.41 20z\"/>\n",
              "  </svg>\n",
              "      </button>\n",
              "      \n",
              "  <style>\n",
              "    .colab-df-container {\n",
              "      display:flex;\n",
              "      flex-wrap:wrap;\n",
              "      gap: 12px;\n",
              "    }\n",
              "\n",
              "    .colab-df-convert {\n",
              "      background-color: #E8F0FE;\n",
              "      border: none;\n",
              "      border-radius: 50%;\n",
              "      cursor: pointer;\n",
              "      display: none;\n",
              "      fill: #1967D2;\n",
              "      height: 32px;\n",
              "      padding: 0 0 0 0;\n",
              "      width: 32px;\n",
              "    }\n",
              "\n",
              "    .colab-df-convert:hover {\n",
              "      background-color: #E2EBFA;\n",
              "      box-shadow: 0px 1px 2px rgba(60, 64, 67, 0.3), 0px 1px 3px 1px rgba(60, 64, 67, 0.15);\n",
              "      fill: #174EA6;\n",
              "    }\n",
              "\n",
              "    [theme=dark] .colab-df-convert {\n",
              "      background-color: #3B4455;\n",
              "      fill: #D2E3FC;\n",
              "    }\n",
              "\n",
              "    [theme=dark] .colab-df-convert:hover {\n",
              "      background-color: #434B5C;\n",
              "      box-shadow: 0px 1px 3px 1px rgba(0, 0, 0, 0.15);\n",
              "      filter: drop-shadow(0px 1px 2px rgba(0, 0, 0, 0.3));\n",
              "      fill: #FFFFFF;\n",
              "    }\n",
              "  </style>\n",
              "\n",
              "      <script>\n",
              "        const buttonEl =\n",
              "          document.querySelector('#df-76d013cf-a52b-40ca-b8b9-8e3571f21353 button.colab-df-convert');\n",
              "        buttonEl.style.display =\n",
              "          google.colab.kernel.accessAllowed ? 'block' : 'none';\n",
              "\n",
              "        async function convertToInteractive(key) {\n",
              "          const element = document.querySelector('#df-76d013cf-a52b-40ca-b8b9-8e3571f21353');\n",
              "          const dataTable =\n",
              "            await google.colab.kernel.invokeFunction('convertToInteractive',\n",
              "                                                     [key], {});\n",
              "          if (!dataTable) return;\n",
              "\n",
              "          const docLinkHtml = 'Like what you see? Visit the ' +\n",
              "            '<a target=\"_blank\" href=https://colab.research.google.com/notebooks/data_table.ipynb>data table notebook</a>'\n",
              "            + ' to learn more about interactive tables.';\n",
              "          element.innerHTML = '';\n",
              "          dataTable['output_type'] = 'display_data';\n",
              "          await google.colab.output.renderOutput(dataTable, element);\n",
              "          const docLink = document.createElement('div');\n",
              "          docLink.innerHTML = docLinkHtml;\n",
              "          element.appendChild(docLink);\n",
              "        }\n",
              "      </script>\n",
              "    </div>\n",
              "  </div>\n",
              "  "
            ]
          },
          "metadata": {},
          "execution_count": 58
        }
      ],
      "source": [
        "# Lectura de la información de archivo .csv\n",
        "bikes = pd.read_csv('https://raw.githubusercontent.com/davidzarruk/MIAD_ML_NLP_2023/main/datasets/bikeshare.csv', index_col='datetime', parse_dates=True)\n",
        "\n",
        "# Renombrar variable \"count\" a \"total\"\n",
        "bikes.rename(columns={'count':'total'}, inplace=True)\n",
        "\n",
        "# Crear la hora como una variable \n",
        "bikes['hour'] = bikes.index.hour\n",
        "\n",
        "# Visualización de los datos\n",
        "bikes.head()"
      ]
    },
    {
      "cell_type": "markdown",
      "metadata": {
        "id": "HYMlD0dIxdwS"
      },
      "source": [
        "### Punto 1 - Análisis descriptivo\n",
        "\n",
        "Ejecute las celdas 1.1 y 1.2. A partir de los resultados realice un análisis descriptivo sobre las variables \"season\" y \"hour\", escriba sus inferencias sobre los datos. Para complementar su análisis puede usar métricas como máximo, mínimo, percentiles entre otros."
      ]
    },
    {
      "cell_type": "code",
      "execution_count": null,
      "metadata": {
        "colab": {
          "base_uri": "https://localhost:8080/",
          "height": 206
        },
        "id": "96z06LsUxdwS",
        "outputId": "2a601f09-54a6-412c-d2e4-521619c21f59"
      },
      "outputs": [
        {
          "output_type": "execute_result",
          "data": {
            "text/plain": [
              "         count        mean         std  min   25%    50%    75%    max\n",
              "season                                                                \n",
              "1       2686.0  116.343261  125.273974  1.0  24.0   78.0  164.0  801.0\n",
              "2       2733.0  215.251372  192.007843  1.0  49.0  172.0  321.0  873.0\n",
              "3       2733.0  234.417124  197.151001  1.0  68.0  195.0  347.0  977.0\n",
              "4       2734.0  198.988296  177.622409  1.0  51.0  161.0  294.0  948.0"
            ],
            "text/html": [
              "\n",
              "  <div id=\"df-395c4a2d-5fa1-4e39-aa9b-24b7d6f406a9\">\n",
              "    <div class=\"colab-df-container\">\n",
              "      <div>\n",
              "<style scoped>\n",
              "    .dataframe tbody tr th:only-of-type {\n",
              "        vertical-align: middle;\n",
              "    }\n",
              "\n",
              "    .dataframe tbody tr th {\n",
              "        vertical-align: top;\n",
              "    }\n",
              "\n",
              "    .dataframe thead th {\n",
              "        text-align: right;\n",
              "    }\n",
              "</style>\n",
              "<table border=\"1\" class=\"dataframe\">\n",
              "  <thead>\n",
              "    <tr style=\"text-align: right;\">\n",
              "      <th></th>\n",
              "      <th>count</th>\n",
              "      <th>mean</th>\n",
              "      <th>std</th>\n",
              "      <th>min</th>\n",
              "      <th>25%</th>\n",
              "      <th>50%</th>\n",
              "      <th>75%</th>\n",
              "      <th>max</th>\n",
              "    </tr>\n",
              "    <tr>\n",
              "      <th>season</th>\n",
              "      <th></th>\n",
              "      <th></th>\n",
              "      <th></th>\n",
              "      <th></th>\n",
              "      <th></th>\n",
              "      <th></th>\n",
              "      <th></th>\n",
              "      <th></th>\n",
              "    </tr>\n",
              "  </thead>\n",
              "  <tbody>\n",
              "    <tr>\n",
              "      <th>1</th>\n",
              "      <td>2686.0</td>\n",
              "      <td>116.343261</td>\n",
              "      <td>125.273974</td>\n",
              "      <td>1.0</td>\n",
              "      <td>24.0</td>\n",
              "      <td>78.0</td>\n",
              "      <td>164.0</td>\n",
              "      <td>801.0</td>\n",
              "    </tr>\n",
              "    <tr>\n",
              "      <th>2</th>\n",
              "      <td>2733.0</td>\n",
              "      <td>215.251372</td>\n",
              "      <td>192.007843</td>\n",
              "      <td>1.0</td>\n",
              "      <td>49.0</td>\n",
              "      <td>172.0</td>\n",
              "      <td>321.0</td>\n",
              "      <td>873.0</td>\n",
              "    </tr>\n",
              "    <tr>\n",
              "      <th>3</th>\n",
              "      <td>2733.0</td>\n",
              "      <td>234.417124</td>\n",
              "      <td>197.151001</td>\n",
              "      <td>1.0</td>\n",
              "      <td>68.0</td>\n",
              "      <td>195.0</td>\n",
              "      <td>347.0</td>\n",
              "      <td>977.0</td>\n",
              "    </tr>\n",
              "    <tr>\n",
              "      <th>4</th>\n",
              "      <td>2734.0</td>\n",
              "      <td>198.988296</td>\n",
              "      <td>177.622409</td>\n",
              "      <td>1.0</td>\n",
              "      <td>51.0</td>\n",
              "      <td>161.0</td>\n",
              "      <td>294.0</td>\n",
              "      <td>948.0</td>\n",
              "    </tr>\n",
              "  </tbody>\n",
              "</table>\n",
              "</div>\n",
              "      <button class=\"colab-df-convert\" onclick=\"convertToInteractive('df-395c4a2d-5fa1-4e39-aa9b-24b7d6f406a9')\"\n",
              "              title=\"Convert this dataframe to an interactive table.\"\n",
              "              style=\"display:none;\">\n",
              "        \n",
              "  <svg xmlns=\"http://www.w3.org/2000/svg\" height=\"24px\"viewBox=\"0 0 24 24\"\n",
              "       width=\"24px\">\n",
              "    <path d=\"M0 0h24v24H0V0z\" fill=\"none\"/>\n",
              "    <path d=\"M18.56 5.44l.94 2.06.94-2.06 2.06-.94-2.06-.94-.94-2.06-.94 2.06-2.06.94zm-11 1L8.5 8.5l.94-2.06 2.06-.94-2.06-.94L8.5 2.5l-.94 2.06-2.06.94zm10 10l.94 2.06.94-2.06 2.06-.94-2.06-.94-.94-2.06-.94 2.06-2.06.94z\"/><path d=\"M17.41 7.96l-1.37-1.37c-.4-.4-.92-.59-1.43-.59-.52 0-1.04.2-1.43.59L10.3 9.45l-7.72 7.72c-.78.78-.78 2.05 0 2.83L4 21.41c.39.39.9.59 1.41.59.51 0 1.02-.2 1.41-.59l7.78-7.78 2.81-2.81c.8-.78.8-2.07 0-2.86zM5.41 20L4 18.59l7.72-7.72 1.47 1.35L5.41 20z\"/>\n",
              "  </svg>\n",
              "      </button>\n",
              "      \n",
              "  <style>\n",
              "    .colab-df-container {\n",
              "      display:flex;\n",
              "      flex-wrap:wrap;\n",
              "      gap: 12px;\n",
              "    }\n",
              "\n",
              "    .colab-df-convert {\n",
              "      background-color: #E8F0FE;\n",
              "      border: none;\n",
              "      border-radius: 50%;\n",
              "      cursor: pointer;\n",
              "      display: none;\n",
              "      fill: #1967D2;\n",
              "      height: 32px;\n",
              "      padding: 0 0 0 0;\n",
              "      width: 32px;\n",
              "    }\n",
              "\n",
              "    .colab-df-convert:hover {\n",
              "      background-color: #E2EBFA;\n",
              "      box-shadow: 0px 1px 2px rgba(60, 64, 67, 0.3), 0px 1px 3px 1px rgba(60, 64, 67, 0.15);\n",
              "      fill: #174EA6;\n",
              "    }\n",
              "\n",
              "    [theme=dark] .colab-df-convert {\n",
              "      background-color: #3B4455;\n",
              "      fill: #D2E3FC;\n",
              "    }\n",
              "\n",
              "    [theme=dark] .colab-df-convert:hover {\n",
              "      background-color: #434B5C;\n",
              "      box-shadow: 0px 1px 3px 1px rgba(0, 0, 0, 0.15);\n",
              "      filter: drop-shadow(0px 1px 2px rgba(0, 0, 0, 0.3));\n",
              "      fill: #FFFFFF;\n",
              "    }\n",
              "  </style>\n",
              "\n",
              "      <script>\n",
              "        const buttonEl =\n",
              "          document.querySelector('#df-395c4a2d-5fa1-4e39-aa9b-24b7d6f406a9 button.colab-df-convert');\n",
              "        buttonEl.style.display =\n",
              "          google.colab.kernel.accessAllowed ? 'block' : 'none';\n",
              "\n",
              "        async function convertToInteractive(key) {\n",
              "          const element = document.querySelector('#df-395c4a2d-5fa1-4e39-aa9b-24b7d6f406a9');\n",
              "          const dataTable =\n",
              "            await google.colab.kernel.invokeFunction('convertToInteractive',\n",
              "                                                     [key], {});\n",
              "          if (!dataTable) return;\n",
              "\n",
              "          const docLinkHtml = 'Like what you see? Visit the ' +\n",
              "            '<a target=\"_blank\" href=https://colab.research.google.com/notebooks/data_table.ipynb>data table notebook</a>'\n",
              "            + ' to learn more about interactive tables.';\n",
              "          element.innerHTML = '';\n",
              "          dataTable['output_type'] = 'display_data';\n",
              "          await google.colab.output.renderOutput(dataTable, element);\n",
              "          const docLink = document.createElement('div');\n",
              "          docLink.innerHTML = docLinkHtml;\n",
              "          element.appendChild(docLink);\n",
              "        }\n",
              "      </script>\n",
              "    </div>\n",
              "  </div>\n",
              "  "
            ]
          },
          "metadata": {},
          "execution_count": 4
        }
      ],
      "source": [
        "# Celda 1.1\n",
        "bikes.groupby('season').total.describe()"
      ]
    },
    {
      "cell_type": "markdown",
      "source": [
        "(1:winter, 2:spring, 3:summer, 4:fall)\n",
        "\n",
        "\n",
        "A partir de los resultados obtenidos, podemos concluir que el numero de usuarios promedio que hacen uso de las bicicletas varían según la temporada, donde la temporada que tienen mayor numero de usuarios en promedio es la temporada 3 \"Verano\", seguido por la temporada 2 \"Primavera\", esto podría explicarse por las condiciones medio ambientales que son propias de cada una de estas temporadas, las cuales permiten un viaje más placentero para los usuarios.\n",
        "\n",
        "La temporada que tiene menor numero de usuarios en promedio es la 1 \"Winter\", la distribución de usuarios de esta estación nos es muy baja con respecto a las otras estaciones.\n",
        "\n",
        "Algo muy importante a remarcar es que el numero total de usuarios para cada una de las temporadas es similar e incluso igual para las temporadas 2 y 3. Esto sugiere que a pesar de la baja cantidad de usuarios durante la temporada Winter, las condiciones climáticas y medio ambientales propias de las otras temporadas hacen que los usuarios se mantengan en un nivel estable durante todo el año."
      ],
      "metadata": {
        "id": "JN0xq1tc2SLn"
      }
    },
    {
      "cell_type": "code",
      "execution_count": null,
      "metadata": {
        "scrolled": true,
        "colab": {
          "base_uri": "https://localhost:8080/",
          "height": 833
        },
        "id": "Cwrd1sfFxdwT",
        "outputId": "402a6ee4-f7f7-44ed-fa99-36824042dd26"
      },
      "outputs": [
        {
          "output_type": "execute_result",
          "data": {
            "text/plain": [
              "      count        mean         std   min     25%    50%     75%    max\n",
              "hour                                                                   \n",
              "0     455.0   55.138462   43.620012   2.0   24.00   41.0   74.50  283.0\n",
              "1     454.0   33.859031   34.112105   1.0   11.00   19.0   46.00  168.0\n",
              "2     448.0   22.899554   26.110267   1.0    5.00   11.0   32.00  119.0\n",
              "3     433.0   11.757506   12.666442   1.0    3.00    6.0   15.00   66.0\n",
              "4     442.0    6.407240    4.217633   1.0    3.00    6.0    9.00   28.0\n",
              "5     452.0   19.767699   12.784293   1.0    8.00   19.0   29.00   57.0\n",
              "6     455.0   76.259341   54.745333   1.0   24.50   75.0  118.00  213.0\n",
              "7     455.0  213.116484  159.207044   1.0   63.00  208.0  334.00  596.0\n",
              "8     455.0  362.769231  231.723065   8.0  133.50  392.0  563.50  839.0\n",
              "9     455.0  221.780220   92.099209  14.0  161.00  217.0  294.50  414.0\n",
              "10    455.0  175.092308  101.807629  17.0  106.00  149.0  218.50  539.0\n",
              "11    455.0  210.674725  127.444294  10.0  123.00  183.0  265.50  647.0\n",
              "12    456.0  256.508772  143.881880   3.0  157.00  234.5  332.00  757.0\n",
              "13    456.0  257.787281  149.167185  11.0  154.00  226.5  329.00  729.0\n",
              "14    456.0  243.442982  147.563199  12.0  144.00  212.0  311.25  730.0\n",
              "15    456.0  254.298246  144.235670   7.0  154.00  232.0  331.00  724.0\n",
              "16    456.0  316.372807  145.664786  11.0  211.75  309.5  421.00  783.0\n",
              "17    456.0  468.765351  223.775485  15.0  277.00  480.5  608.50  970.0\n",
              "18    456.0  430.859649  219.908138  23.0  240.75  422.5  564.00  977.0\n",
              "19    456.0  315.278509  156.641732  11.0  190.00  312.5  416.00  743.0\n",
              "20    456.0  228.517544  116.411565  11.0  136.75  224.0  302.00  551.0\n",
              "21    456.0  173.370614   87.629319   6.0  103.50  171.5  230.00  584.0\n",
              "22    456.0  133.576754   69.844495   9.0   80.00  129.0  175.00  502.0\n",
              "23    456.0   89.508772   51.638004   4.0   52.75   80.0  123.00  256.0"
            ],
            "text/html": [
              "\n",
              "  <div id=\"df-8b12cd75-96f9-43f9-9485-3931edff234b\">\n",
              "    <div class=\"colab-df-container\">\n",
              "      <div>\n",
              "<style scoped>\n",
              "    .dataframe tbody tr th:only-of-type {\n",
              "        vertical-align: middle;\n",
              "    }\n",
              "\n",
              "    .dataframe tbody tr th {\n",
              "        vertical-align: top;\n",
              "    }\n",
              "\n",
              "    .dataframe thead th {\n",
              "        text-align: right;\n",
              "    }\n",
              "</style>\n",
              "<table border=\"1\" class=\"dataframe\">\n",
              "  <thead>\n",
              "    <tr style=\"text-align: right;\">\n",
              "      <th></th>\n",
              "      <th>count</th>\n",
              "      <th>mean</th>\n",
              "      <th>std</th>\n",
              "      <th>min</th>\n",
              "      <th>25%</th>\n",
              "      <th>50%</th>\n",
              "      <th>75%</th>\n",
              "      <th>max</th>\n",
              "    </tr>\n",
              "    <tr>\n",
              "      <th>hour</th>\n",
              "      <th></th>\n",
              "      <th></th>\n",
              "      <th></th>\n",
              "      <th></th>\n",
              "      <th></th>\n",
              "      <th></th>\n",
              "      <th></th>\n",
              "      <th></th>\n",
              "    </tr>\n",
              "  </thead>\n",
              "  <tbody>\n",
              "    <tr>\n",
              "      <th>0</th>\n",
              "      <td>455.0</td>\n",
              "      <td>55.138462</td>\n",
              "      <td>43.620012</td>\n",
              "      <td>2.0</td>\n",
              "      <td>24.00</td>\n",
              "      <td>41.0</td>\n",
              "      <td>74.50</td>\n",
              "      <td>283.0</td>\n",
              "    </tr>\n",
              "    <tr>\n",
              "      <th>1</th>\n",
              "      <td>454.0</td>\n",
              "      <td>33.859031</td>\n",
              "      <td>34.112105</td>\n",
              "      <td>1.0</td>\n",
              "      <td>11.00</td>\n",
              "      <td>19.0</td>\n",
              "      <td>46.00</td>\n",
              "      <td>168.0</td>\n",
              "    </tr>\n",
              "    <tr>\n",
              "      <th>2</th>\n",
              "      <td>448.0</td>\n",
              "      <td>22.899554</td>\n",
              "      <td>26.110267</td>\n",
              "      <td>1.0</td>\n",
              "      <td>5.00</td>\n",
              "      <td>11.0</td>\n",
              "      <td>32.00</td>\n",
              "      <td>119.0</td>\n",
              "    </tr>\n",
              "    <tr>\n",
              "      <th>3</th>\n",
              "      <td>433.0</td>\n",
              "      <td>11.757506</td>\n",
              "      <td>12.666442</td>\n",
              "      <td>1.0</td>\n",
              "      <td>3.00</td>\n",
              "      <td>6.0</td>\n",
              "      <td>15.00</td>\n",
              "      <td>66.0</td>\n",
              "    </tr>\n",
              "    <tr>\n",
              "      <th>4</th>\n",
              "      <td>442.0</td>\n",
              "      <td>6.407240</td>\n",
              "      <td>4.217633</td>\n",
              "      <td>1.0</td>\n",
              "      <td>3.00</td>\n",
              "      <td>6.0</td>\n",
              "      <td>9.00</td>\n",
              "      <td>28.0</td>\n",
              "    </tr>\n",
              "    <tr>\n",
              "      <th>5</th>\n",
              "      <td>452.0</td>\n",
              "      <td>19.767699</td>\n",
              "      <td>12.784293</td>\n",
              "      <td>1.0</td>\n",
              "      <td>8.00</td>\n",
              "      <td>19.0</td>\n",
              "      <td>29.00</td>\n",
              "      <td>57.0</td>\n",
              "    </tr>\n",
              "    <tr>\n",
              "      <th>6</th>\n",
              "      <td>455.0</td>\n",
              "      <td>76.259341</td>\n",
              "      <td>54.745333</td>\n",
              "      <td>1.0</td>\n",
              "      <td>24.50</td>\n",
              "      <td>75.0</td>\n",
              "      <td>118.00</td>\n",
              "      <td>213.0</td>\n",
              "    </tr>\n",
              "    <tr>\n",
              "      <th>7</th>\n",
              "      <td>455.0</td>\n",
              "      <td>213.116484</td>\n",
              "      <td>159.207044</td>\n",
              "      <td>1.0</td>\n",
              "      <td>63.00</td>\n",
              "      <td>208.0</td>\n",
              "      <td>334.00</td>\n",
              "      <td>596.0</td>\n",
              "    </tr>\n",
              "    <tr>\n",
              "      <th>8</th>\n",
              "      <td>455.0</td>\n",
              "      <td>362.769231</td>\n",
              "      <td>231.723065</td>\n",
              "      <td>8.0</td>\n",
              "      <td>133.50</td>\n",
              "      <td>392.0</td>\n",
              "      <td>563.50</td>\n",
              "      <td>839.0</td>\n",
              "    </tr>\n",
              "    <tr>\n",
              "      <th>9</th>\n",
              "      <td>455.0</td>\n",
              "      <td>221.780220</td>\n",
              "      <td>92.099209</td>\n",
              "      <td>14.0</td>\n",
              "      <td>161.00</td>\n",
              "      <td>217.0</td>\n",
              "      <td>294.50</td>\n",
              "      <td>414.0</td>\n",
              "    </tr>\n",
              "    <tr>\n",
              "      <th>10</th>\n",
              "      <td>455.0</td>\n",
              "      <td>175.092308</td>\n",
              "      <td>101.807629</td>\n",
              "      <td>17.0</td>\n",
              "      <td>106.00</td>\n",
              "      <td>149.0</td>\n",
              "      <td>218.50</td>\n",
              "      <td>539.0</td>\n",
              "    </tr>\n",
              "    <tr>\n",
              "      <th>11</th>\n",
              "      <td>455.0</td>\n",
              "      <td>210.674725</td>\n",
              "      <td>127.444294</td>\n",
              "      <td>10.0</td>\n",
              "      <td>123.00</td>\n",
              "      <td>183.0</td>\n",
              "      <td>265.50</td>\n",
              "      <td>647.0</td>\n",
              "    </tr>\n",
              "    <tr>\n",
              "      <th>12</th>\n",
              "      <td>456.0</td>\n",
              "      <td>256.508772</td>\n",
              "      <td>143.881880</td>\n",
              "      <td>3.0</td>\n",
              "      <td>157.00</td>\n",
              "      <td>234.5</td>\n",
              "      <td>332.00</td>\n",
              "      <td>757.0</td>\n",
              "    </tr>\n",
              "    <tr>\n",
              "      <th>13</th>\n",
              "      <td>456.0</td>\n",
              "      <td>257.787281</td>\n",
              "      <td>149.167185</td>\n",
              "      <td>11.0</td>\n",
              "      <td>154.00</td>\n",
              "      <td>226.5</td>\n",
              "      <td>329.00</td>\n",
              "      <td>729.0</td>\n",
              "    </tr>\n",
              "    <tr>\n",
              "      <th>14</th>\n",
              "      <td>456.0</td>\n",
              "      <td>243.442982</td>\n",
              "      <td>147.563199</td>\n",
              "      <td>12.0</td>\n",
              "      <td>144.00</td>\n",
              "      <td>212.0</td>\n",
              "      <td>311.25</td>\n",
              "      <td>730.0</td>\n",
              "    </tr>\n",
              "    <tr>\n",
              "      <th>15</th>\n",
              "      <td>456.0</td>\n",
              "      <td>254.298246</td>\n",
              "      <td>144.235670</td>\n",
              "      <td>7.0</td>\n",
              "      <td>154.00</td>\n",
              "      <td>232.0</td>\n",
              "      <td>331.00</td>\n",
              "      <td>724.0</td>\n",
              "    </tr>\n",
              "    <tr>\n",
              "      <th>16</th>\n",
              "      <td>456.0</td>\n",
              "      <td>316.372807</td>\n",
              "      <td>145.664786</td>\n",
              "      <td>11.0</td>\n",
              "      <td>211.75</td>\n",
              "      <td>309.5</td>\n",
              "      <td>421.00</td>\n",
              "      <td>783.0</td>\n",
              "    </tr>\n",
              "    <tr>\n",
              "      <th>17</th>\n",
              "      <td>456.0</td>\n",
              "      <td>468.765351</td>\n",
              "      <td>223.775485</td>\n",
              "      <td>15.0</td>\n",
              "      <td>277.00</td>\n",
              "      <td>480.5</td>\n",
              "      <td>608.50</td>\n",
              "      <td>970.0</td>\n",
              "    </tr>\n",
              "    <tr>\n",
              "      <th>18</th>\n",
              "      <td>456.0</td>\n",
              "      <td>430.859649</td>\n",
              "      <td>219.908138</td>\n",
              "      <td>23.0</td>\n",
              "      <td>240.75</td>\n",
              "      <td>422.5</td>\n",
              "      <td>564.00</td>\n",
              "      <td>977.0</td>\n",
              "    </tr>\n",
              "    <tr>\n",
              "      <th>19</th>\n",
              "      <td>456.0</td>\n",
              "      <td>315.278509</td>\n",
              "      <td>156.641732</td>\n",
              "      <td>11.0</td>\n",
              "      <td>190.00</td>\n",
              "      <td>312.5</td>\n",
              "      <td>416.00</td>\n",
              "      <td>743.0</td>\n",
              "    </tr>\n",
              "    <tr>\n",
              "      <th>20</th>\n",
              "      <td>456.0</td>\n",
              "      <td>228.517544</td>\n",
              "      <td>116.411565</td>\n",
              "      <td>11.0</td>\n",
              "      <td>136.75</td>\n",
              "      <td>224.0</td>\n",
              "      <td>302.00</td>\n",
              "      <td>551.0</td>\n",
              "    </tr>\n",
              "    <tr>\n",
              "      <th>21</th>\n",
              "      <td>456.0</td>\n",
              "      <td>173.370614</td>\n",
              "      <td>87.629319</td>\n",
              "      <td>6.0</td>\n",
              "      <td>103.50</td>\n",
              "      <td>171.5</td>\n",
              "      <td>230.00</td>\n",
              "      <td>584.0</td>\n",
              "    </tr>\n",
              "    <tr>\n",
              "      <th>22</th>\n",
              "      <td>456.0</td>\n",
              "      <td>133.576754</td>\n",
              "      <td>69.844495</td>\n",
              "      <td>9.0</td>\n",
              "      <td>80.00</td>\n",
              "      <td>129.0</td>\n",
              "      <td>175.00</td>\n",
              "      <td>502.0</td>\n",
              "    </tr>\n",
              "    <tr>\n",
              "      <th>23</th>\n",
              "      <td>456.0</td>\n",
              "      <td>89.508772</td>\n",
              "      <td>51.638004</td>\n",
              "      <td>4.0</td>\n",
              "      <td>52.75</td>\n",
              "      <td>80.0</td>\n",
              "      <td>123.00</td>\n",
              "      <td>256.0</td>\n",
              "    </tr>\n",
              "  </tbody>\n",
              "</table>\n",
              "</div>\n",
              "      <button class=\"colab-df-convert\" onclick=\"convertToInteractive('df-8b12cd75-96f9-43f9-9485-3931edff234b')\"\n",
              "              title=\"Convert this dataframe to an interactive table.\"\n",
              "              style=\"display:none;\">\n",
              "        \n",
              "  <svg xmlns=\"http://www.w3.org/2000/svg\" height=\"24px\"viewBox=\"0 0 24 24\"\n",
              "       width=\"24px\">\n",
              "    <path d=\"M0 0h24v24H0V0z\" fill=\"none\"/>\n",
              "    <path d=\"M18.56 5.44l.94 2.06.94-2.06 2.06-.94-2.06-.94-.94-2.06-.94 2.06-2.06.94zm-11 1L8.5 8.5l.94-2.06 2.06-.94-2.06-.94L8.5 2.5l-.94 2.06-2.06.94zm10 10l.94 2.06.94-2.06 2.06-.94-2.06-.94-.94-2.06-.94 2.06-2.06.94z\"/><path d=\"M17.41 7.96l-1.37-1.37c-.4-.4-.92-.59-1.43-.59-.52 0-1.04.2-1.43.59L10.3 9.45l-7.72 7.72c-.78.78-.78 2.05 0 2.83L4 21.41c.39.39.9.59 1.41.59.51 0 1.02-.2 1.41-.59l7.78-7.78 2.81-2.81c.8-.78.8-2.07 0-2.86zM5.41 20L4 18.59l7.72-7.72 1.47 1.35L5.41 20z\"/>\n",
              "  </svg>\n",
              "      </button>\n",
              "      \n",
              "  <style>\n",
              "    .colab-df-container {\n",
              "      display:flex;\n",
              "      flex-wrap:wrap;\n",
              "      gap: 12px;\n",
              "    }\n",
              "\n",
              "    .colab-df-convert {\n",
              "      background-color: #E8F0FE;\n",
              "      border: none;\n",
              "      border-radius: 50%;\n",
              "      cursor: pointer;\n",
              "      display: none;\n",
              "      fill: #1967D2;\n",
              "      height: 32px;\n",
              "      padding: 0 0 0 0;\n",
              "      width: 32px;\n",
              "    }\n",
              "\n",
              "    .colab-df-convert:hover {\n",
              "      background-color: #E2EBFA;\n",
              "      box-shadow: 0px 1px 2px rgba(60, 64, 67, 0.3), 0px 1px 3px 1px rgba(60, 64, 67, 0.15);\n",
              "      fill: #174EA6;\n",
              "    }\n",
              "\n",
              "    [theme=dark] .colab-df-convert {\n",
              "      background-color: #3B4455;\n",
              "      fill: #D2E3FC;\n",
              "    }\n",
              "\n",
              "    [theme=dark] .colab-df-convert:hover {\n",
              "      background-color: #434B5C;\n",
              "      box-shadow: 0px 1px 3px 1px rgba(0, 0, 0, 0.15);\n",
              "      filter: drop-shadow(0px 1px 2px rgba(0, 0, 0, 0.3));\n",
              "      fill: #FFFFFF;\n",
              "    }\n",
              "  </style>\n",
              "\n",
              "      <script>\n",
              "        const buttonEl =\n",
              "          document.querySelector('#df-8b12cd75-96f9-43f9-9485-3931edff234b button.colab-df-convert');\n",
              "        buttonEl.style.display =\n",
              "          google.colab.kernel.accessAllowed ? 'block' : 'none';\n",
              "\n",
              "        async function convertToInteractive(key) {\n",
              "          const element = document.querySelector('#df-8b12cd75-96f9-43f9-9485-3931edff234b');\n",
              "          const dataTable =\n",
              "            await google.colab.kernel.invokeFunction('convertToInteractive',\n",
              "                                                     [key], {});\n",
              "          if (!dataTable) return;\n",
              "\n",
              "          const docLinkHtml = 'Like what you see? Visit the ' +\n",
              "            '<a target=\"_blank\" href=https://colab.research.google.com/notebooks/data_table.ipynb>data table notebook</a>'\n",
              "            + ' to learn more about interactive tables.';\n",
              "          element.innerHTML = '';\n",
              "          dataTable['output_type'] = 'display_data';\n",
              "          await google.colab.output.renderOutput(dataTable, element);\n",
              "          const docLink = document.createElement('div');\n",
              "          docLink.innerHTML = docLinkHtml;\n",
              "          element.appendChild(docLink);\n",
              "        }\n",
              "      </script>\n",
              "    </div>\n",
              "  </div>\n",
              "  "
            ]
          },
          "metadata": {},
          "execution_count": 5
        }
      ],
      "source": [
        "# Celda 1.2\n",
        "bikes.groupby('hour').total.describe()"
      ]
    },
    {
      "cell_type": "markdown",
      "source": [
        "Este análisis descriptivo ha demostrado que el uso de bicicletas varía significativamente a lo largo del día, con una hora pico de uso a las 8 pm con 839 bicicletas usadas y un uso más bajo a las 4 am con 28 bicicletas usadas. Esto nos indica que el uso de bicicletas es principalmente para fines recreativos y que la gente prefiere usar la bicicleta para desplazarse durante el día. Por lo tanto, se puede concluir que el uso de bicicletas es más popular durante las horas de la tarde y la noche, con un descenso considerable durante la madrugada."
      ],
      "metadata": {
        "id": "N6DBnBv26jpO"
      }
    },
    {
      "cell_type": "markdown",
      "metadata": {
        "id": "8_0OE0UYxdwT"
      },
      "source": [
        "### Punto 2 - Análisis de gráficos\n",
        "\n",
        "Primero ejecute la celda 2.1 y asegúrese de comprender el código y el resultado. Luego, en cada una de celdas 2.2 y 2.3 escriba un código que genere una gráfica del número de bicicletas rentadas promedio para cada valor de la variable \"hour\" (hora) cuando la variable \"season\" es igual a 1 (invierno) e igual a 3 (verano), respectivamente. Analice y escriba sus hallazgos."
      ]
    },
    {
      "cell_type": "code",
      "execution_count": null,
      "metadata": {
        "colab": {
          "base_uri": "https://localhost:8080/",
          "height": 467
        },
        "id": "cv920v9pxdwT",
        "outputId": "52e56c81-a21a-4191-f0a0-43ed69614a90"
      },
      "outputs": [
        {
          "output_type": "execute_result",
          "data": {
            "text/plain": [
              "<Axes: xlabel='hour'>"
            ]
          },
          "metadata": {},
          "execution_count": 6
        },
        {
          "output_type": "display_data",
          "data": {
            "text/plain": [
              "<Figure size 640x480 with 1 Axes>"
            ],
            "image/png": "[encoded data removed]"
          },
          "metadata": {}
        }
      ],
      "source": [
        "# Celda 2.1 - rentas promedio para cada valor de la variable \"hour\"\n",
        "bikes.groupby('hour').total.mean().plot()"
      ]
    },
    {
      "cell_type": "code",
      "execution_count": null,
      "metadata": {
        "colab": {
          "base_uri": "https://localhost:8080/",
          "height": 467
        },
        "id": "dIbIJSTKxdwT",
        "outputId": "d1e0216b-db03-4b95-c379-5d529141d170"
      },
      "outputs": [
        {
          "output_type": "execute_result",
          "data": {
            "text/plain": [
              "<Axes: xlabel='hour'>"
            ]
          },
          "metadata": {},
          "execution_count": 7
        },
        {
          "output_type": "display_data",
          "data": {
            "text/plain": [
              "<Figure size 640x480 with 1 Axes>"
            ],
            "image/png": "[encoded data removed]"
          },
          "metadata": {}
        }
      ],
      "source": [
        "# Celda 2.2 - \"season\"=1 escriba su código y hallazgos \n",
        "bikes[bikes.season == 1].groupby('hour').total.mean().plot()"
      ]
    },
    {
      "cell_type": "code",
      "execution_count": null,
      "metadata": {
        "colab": {
          "base_uri": "https://localhost:8080/",
          "height": 467
        },
        "id": "6gD6lG0DxdwU",
        "outputId": "8fd0d341-b7ae-482b-fcb3-a8942d518f1e"
      },
      "outputs": [
        {
          "output_type": "execute_result",
          "data": {
            "text/plain": [
              "<Axes: xlabel='hour'>"
            ]
          },
          "metadata": {},
          "execution_count": 8
        },
        {
          "output_type": "display_data",
          "data": {
            "text/plain": [
              "<Figure size 640x480 with 1 Axes>"
            ],
            "image/png": "[encoded data removed]"
          },
          "metadata": {}
        }
      ],
      "source": [
        "# Celda 2.3 - \"season\"=3 escriba su código y hallazgos \n",
        "bikes[bikes.season == 3].groupby('hour').total.mean().plot()"
      ]
    },
    {
      "cell_type": "markdown",
      "source": [
        "Al comparar los gráficos generados con la celda 2.2 y 2.3, se puede observar que el número de bicicletas rentadas promedio para cada valor de la variable \"hour\" es significativamente mayor en verano que en invierno, lo que sugiere que los usuarios prefieren alquilar bicicletas durante la temporada de verano. Además, se observa que la cantidad promedio de bicicletas rentadas es mayor entre las horas 8 y 18, lo que indica que la mayoría de los usuarios alquilan bicicletas para realizar trabajo o estudios, ya que este es el horario habitual de actividad. Esto reforza la conclusión de que los usuarios prefieren alquilar bicicletas durante el verano."
      ],
      "metadata": {
        "id": "gJgDapiA7jW7"
      }
    },
    {
      "cell_type": "markdown",
      "metadata": {
        "id": "v1oTxoebxdwU"
      },
      "source": [
        "### Punto 3 - Regresión lineal\n",
        "En la celda 3 ajuste un modelo de regresión lineal a todo el conjunto de datos, utilizando \"total\" como variable de respuesta y \"season\" y \"hour\" como las únicas variables predictoras, teniendo en cuenta que la variable \"season\" es categórica. Luego, imprima los coeficientes e interprételos. ¿Cuáles son las limitaciones de la regresión lineal en este caso?"
      ]
    },
    {
      "cell_type": "code",
      "source": [
        "# Celda 3\n",
        "bikes2 = pd.get_dummies(bikes, columns=['season'],drop_first=True)\n",
        "\n",
        "X = bikes2[['season_2', 'season_3', 'season_4','hour']]\n",
        "y = bikes2['total']\n",
        "\n",
        "modeloRL =  LinearRegression().fit(X,y)\n",
        "\n",
        "print(modeloRL.coef_)\n"
      ],
      "metadata": {
        "colab": {
          "base_uri": "https://localhost:8080/"
        },
        "id": "AhbKrPBl9tNB",
        "outputId": "38cb1b01-d0a0-4830-dd6e-40fe22fe3564"
      },
      "execution_count": null,
      "outputs": [
        {
          "output_type": "stream",
          "name": "stdout",
          "text": [
            "[100.31723192 119.46754995  84.08311787  10.54520609]\n"
          ]
        }
      ]
    },
    {
      "cell_type": "markdown",
      "source": [
        "**Interpretación de los Coeficientes:**\n",
        "\n",
        "El coeficiente de la variable \"season_2\" es 100.31. Esto significa que, en comparación con la primera temporada, se espera que el número total de bicicletas alquiladas aumente en 100.31 cuando la temporada sea la segunda.\n",
        "\n",
        "El coeficiente de la variable \"season_3\" es 119.46. Esto significa que, en comparación con la primera temporada, se espera que el número total de bicicletas alquiladas aumente en 119.46 cuando la temporada sea la tercera.\n",
        "\n",
        "El coeficiente de la variable \"season_4\" es 84.08. Esto significa que, en comparación con la primera temporada, se espera que el número total de bicicletas alquiladas aumente en 84.08 cuando la temporada sea la cuarta.\n",
        "\n",
        "El coeficiente de la variable \"hour\" es 10.54. Esto significa que, para cada aumento de una hora en el tiempo del día, se espera que el número total de bicicletas alquiladas aumente en 10.54.\n",
        "\n",
        "\n",
        "\n",
        "\n",
        "\n"
      ],
      "metadata": {
        "id": "f1RKv0q4Cpks"
      }
    },
    {
      "cell_type": "code",
      "source": [
        "XTrain, XTest, yTrain, yTest = train_test_split(X, y, test_size=0.33, random_state=0)\n",
        "\n",
        "modeloRL =  LinearRegression().fit(XTrain,yTrain)\n",
        "\n",
        "y_pred = modeloRL.predict(XTest)\n",
        "\n",
        "mserl = mean_squared_error(yTest, y_pred)\n",
        "print('MSE:', mserl)"
      ],
      "metadata": {
        "colab": {
          "base_uri": "https://localhost:8080/"
        },
        "id": "2skiQEF0Em21",
        "outputId": "e46400ce-b3fd-41f9-862f-fcc3f1bf6e32"
      },
      "execution_count": null,
      "outputs": [
        {
          "output_type": "stream",
          "name": "stdout",
          "text": [
            "MSE: 25644.421108938277\n"
          ]
        }
      ]
    },
    {
      "cell_type": "markdown",
      "metadata": {
        "id": "_fzbm8VExdwU"
      },
      "source": [
        "### Punto 4 - Árbol de decisión manual\n",
        "En la celda 4 cree un árbol de decisiones para pronosticar la variable \"total\" iterando **manualmente** sobre las variables \"hour\" y  \"season\". El árbol debe tener al menos 6 nodos finales."
      ]
    },
    {
      "cell_type": "code",
      "source": [
        "X = bikes[['hour', 'season','total']]\n",
        "y = bikes['total']\n",
        "\n",
        "XTrain, XTest, yTrain, yTest = train_test_split(X, y, test_size=0.33, random_state=0)"
      ],
      "metadata": {
        "id": "H1bEeR9v3oLK"
      },
      "execution_count": null,
      "outputs": []
    },
    {
      "cell_type": "code",
      "execution_count": null,
      "metadata": {
        "colab": {
          "base_uri": "https://localhost:8080/"
        },
        "id": "0bXcJMnsxdwU",
        "outputId": "37fe6876-e3d1-4465-c844-5132b43c813e"
      },
      "outputs": [
        {
          "output_type": "stream",
          "name": "stdout",
          "text": [
            "total\n"
          ]
        },
        {
          "output_type": "execute_result",
          "data": {
            "text/plain": [
              "array([  1.,   9.,  28.,  61., 102., 145., 192., 249., 328., 452.])"
            ]
          },
          "metadata": {},
          "execution_count": 15
        }
      ],
      "source": [
        "# Celda 4\n",
        "\n",
        "# Definición de parámetros y criterios de parada\n",
        "max_depth = None\n",
        "num_pct = 10\n",
        "max_features = None\n",
        "min_gain=0.001\n",
        "\n",
        "j = 2\n",
        "print(X.columns[j])\n",
        "\n",
        "# División de la variable Hits en num_ctp puntos (parámetro definido anteriormente) para obtener posibles puntos de corte\n",
        "splits = np.percentile(X.iloc[:, j], np.arange(0, 100, 100.0 / num_pct).tolist())\n",
        "splits = np.unique(splits)\n",
        "splits"
      ]
    },
    {
      "cell_type": "code",
      "source": [
        "# División de las observaciones usando el punto de corte en la posición 5 de la lista de splits\n",
        "k=5\n",
        "filter_l = X.iloc[:, j] < splits[k]\n",
        "\n",
        "# División de la variable de respuesta de acuerdo a si la observación cumple o no con la regla binaria\n",
        "# y_l: la observación tiene un valor menor al punto de corte seleccionado\n",
        "# y_r: la observación tiene un valor mayor o igual al punto de corte seleccionado\n",
        "y_l = y.loc[filter_l]\n",
        "y_r = y.loc[~filter_l]\n"
      ],
      "metadata": {
        "id": "wFOhIcvtDUAg"
      },
      "execution_count": null,
      "outputs": []
    },
    {
      "cell_type": "code",
      "source": [
        "# Definición de la función que calcula el gini index\n",
        "def gini(y):\n",
        "    if y.shape[0] == 0:\n",
        "        return 0\n",
        "    else:\n",
        "        return 1 - (y.mean()**2 + (1 - y.mean())**2)"
      ],
      "metadata": {
        "id": "JekoIsQlLkkz"
      },
      "execution_count": null,
      "outputs": []
    },
    {
      "cell_type": "code",
      "source": [
        "gini_r = gini(y_r)\n",
        "gini_r"
      ],
      "metadata": {
        "colab": {
          "base_uri": "https://localhost:8080/"
        },
        "id": "NqaloPRXKpr3",
        "outputId": "7609848d-cb5a-4780-d99e-70738d579075"
      },
      "execution_count": null,
      "outputs": [
        {
          "output_type": "execute_result",
          "data": {
            "text/plain": [
              "-216066.15221111657"
            ]
          },
          "metadata": {},
          "execution_count": 18
        }
      ]
    },
    {
      "cell_type": "code",
      "source": [
        "gini_l = gini(y_l)\n",
        "gini_l"
      ],
      "metadata": {
        "colab": {
          "base_uri": "https://localhost:8080/"
        },
        "id": "bTpXSaR9Lqah",
        "outputId": "a9f30bbd-c1d6-4236-fddb-6cc1549ee618"
      },
      "execution_count": null,
      "outputs": [
        {
          "output_type": "execute_result",
          "data": {
            "text/plain": [
              "-5586.996498920642"
            ]
          },
          "metadata": {},
          "execution_count": 19
        }
      ]
    },
    {
      "cell_type": "code",
      "source": [
        "# Definición de la función gini_imputiry para calular la ganancia de una variable predictora j dado el punto de corte k\n",
        "def gini_impurity(X_col, y, split):\n",
        "    \n",
        "    filter_l = X_col < split\n",
        "    y_l = y.loc[filter_l]\n",
        "    y_r = y.loc[~filter_l]\n",
        "    \n",
        "    n_l = y_l.shape[0]\n",
        "    n_r = y_r.shape[0]\n",
        "    \n",
        "    gini_y = gini(y)\n",
        "    gini_l = gini(y_l)\n",
        "    gini_r = gini(y_r)\n",
        "    \n",
        "    gini_impurity_ = gini_y - (n_l / (n_l + n_r) * gini_l + n_r / (n_l + n_r) * gini_r)\n",
        "    \n",
        "    return gini_impurity_"
      ],
      "metadata": {
        "id": "NuzojD19L5cJ"
      },
      "execution_count": null,
      "outputs": []
    },
    {
      "cell_type": "code",
      "source": [
        "# Ganancia de la variable 'Hits' en el punto de corte selecionado\n",
        "gini_impurity(X.iloc[:, j], y, splits[k])"
      ],
      "metadata": {
        "colab": {
          "base_uri": "https://localhost:8080/"
        },
        "id": "KdT8TiQGL7Re",
        "outputId": "2ab2e69a-6747-4cab-89bf-02c34d7b9a3f"
      },
      "execution_count": null,
      "outputs": [
        {
          "output_type": "execute_result",
          "data": {
            "text/plain": [
              "38040.44475917434"
            ]
          },
          "metadata": {},
          "execution_count": 21
        }
      ]
    },
    {
      "cell_type": "code",
      "source": [
        "def best_split(X, y, num_pct=10):\n",
        "    \n",
        "    features = range(X.shape[1])\n",
        "    \n",
        "    best_split = [0, 0, 0]  # j, split, gain\n",
        "    \n",
        "    # Para todas las varibles \n",
        "    for j in features:\n",
        "        \n",
        "        splits = np.percentile(X.iloc[:, j], np.arange(0, 100, 100.0 / (num_pct+1)).tolist())\n",
        "        splits = np.unique(splits)[1:]\n",
        "        \n",
        "        # Para cada partición\n",
        "        for split in splits:\n",
        "            gain = gini_impurity(X.iloc[:, j], y, split)\n",
        "                        \n",
        "            if gain > best_split[2]:\n",
        "                best_split = [j, split, gain]\n",
        "    \n",
        "    return best_split"
      ],
      "metadata": {
        "id": "xYx8nDz1L_be"
      },
      "execution_count": null,
      "outputs": []
    },
    {
      "cell_type": "code",
      "source": [
        "# Obtención de la variable 'j', su punto de corte 'split' y su ganancia 'gain'\n",
        "j, split, gain = best_split(X, y, 5)\n",
        "j, split, gain"
      ],
      "metadata": {
        "colab": {
          "base_uri": "https://localhost:8080/"
        },
        "id": "RtRxkZLBMBIP",
        "outputId": "cb392414-1333-4841-d2d2-7caa358b6c42"
      },
      "execution_count": null,
      "outputs": [
        {
          "output_type": "execute_result",
          "data": {
            "text/plain": [
              "(2, 228.0, 44258.08574503963)"
            ]
          },
          "metadata": {},
          "execution_count": 23
        }
      ]
    },
    {
      "cell_type": "code",
      "source": [
        "# División de las observaciones usando la mejor variable 'j' y su punto de corte 'split'\n",
        "filter_l = X.iloc[:, j] < split\n",
        "\n",
        "y_l = y.loc[filter_l]\n",
        "y_r = y.loc[~filter_l]"
      ],
      "metadata": {
        "id": "tFkLhZe1MC-l"
      },
      "execution_count": null,
      "outputs": []
    },
    {
      "cell_type": "code",
      "source": [
        "y.shape[0], y_l.shape[0], y_r.shape[0]"
      ],
      "metadata": {
        "colab": {
          "base_uri": "https://localhost:8080/"
        },
        "id": "dnWnn45VMEo5",
        "outputId": "048297af-7b04-4370-9ce0-c637e8b14f65"
      },
      "execution_count": null,
      "outputs": [
        {
          "output_type": "execute_result",
          "data": {
            "text/plain": [
              "(10886, 7251, 3635)"
            ]
          },
          "metadata": {},
          "execution_count": 25
        }
      ]
    },
    {
      "cell_type": "code",
      "source": [
        "y.mean(), y_l.mean(), y_r.mean()"
      ],
      "metadata": {
        "colab": {
          "base_uri": "https://localhost:8080/"
        },
        "id": "SYXiMrLYMGSP",
        "outputId": "eaf0c886-fa17-48c5-c7fb-38ea78cc131f"
      },
      "execution_count": null,
      "outputs": [
        {
          "output_type": "execute_result",
          "data": {
            "text/plain": [
              "(191.57413191254824, 86.2483795338574, 401.6751031636864)"
            ]
          },
          "metadata": {},
          "execution_count": 26
        }
      ]
    },
    {
      "cell_type": "code",
      "source": [
        "# Definición de la función tree_grow para hacer un crecimiento recursivo del árbol\n",
        "def tree_grow(X, y, level=0, min_gain=0.001, max_depth=None, num_pct=10):\n",
        "    \n",
        "    # Si solo es una observación\n",
        "    if X.shape[0] == 1:\n",
        "        tree = dict(y_pred=y.iloc[:1].values[0], y_prob=0.5, level=level, split=-1, n_samples=1, gain=0)\n",
        "        return tree\n",
        "    \n",
        "    # Calcular la mejor división\n",
        "    j, split, gain = best_split(X, y, num_pct)\n",
        "    \n",
        "    # Guardar el árbol y estimar la predicción\n",
        "    y_pred = int(y.mean() >= 0.5) \n",
        "    y_prob = (y.sum() + 1.0) / (y.shape[0] + 2.0)  # Corrección Laplace \n",
        "    \n",
        "    tree = dict(y_pred=y_pred, y_prob=y_prob, level=level, split=-1, n_samples=X.shape[0], gain=gain)\n",
        "    # Revisar el criterio de parada \n",
        "    if gain < min_gain:\n",
        "        return tree\n",
        "    if max_depth is not None:\n",
        "        if level >= max_depth:\n",
        "            return tree   \n",
        "    \n",
        "    # Continuar creando la partición\n",
        "    filter_l = X.iloc[:, j] < split\n",
        "    X_l, y_l = X.loc[filter_l], y.loc[filter_l]\n",
        "    X_r, y_r = X.loc[~filter_l], y.loc[~filter_l]\n",
        "    tree['split'] = [j, split]\n",
        "\n",
        "    # Siguiente iteración para cada partición\n",
        "    \n",
        "    tree['sl'] = tree_grow(X_l, y_l, level + 1, min_gain=min_gain, max_depth=max_depth, num_pct=num_pct)\n",
        "    tree['sr'] = tree_grow(X_r, y_r, level + 1, min_gain=min_gain, max_depth=max_depth, num_pct=num_pct)\n",
        "    \n",
        "    return tree"
      ],
      "metadata": {
        "id": "Cz5d0ZwBMMHQ"
      },
      "execution_count": null,
      "outputs": []
    },
    {
      "cell_type": "code",
      "source": [
        "# Aplicación de la función tree_grow\n",
        "tree_grow(X, y, level=0, min_gain=0.001, max_depth=1, num_pct=10)"
      ],
      "metadata": {
        "id": "Dd0wta13MOGx",
        "colab": {
          "base_uri": "https://localhost:8080/"
        },
        "outputId": "f7368046-c9f4-4ab1-c99e-355cf2a5d079"
      },
      "execution_count": null,
      "outputs": [
        {
          "output_type": "execute_result",
          "data": {
            "text/plain": [
              "{'y_pred': 1,\n",
              " 'y_prob': 191.53903379867745,\n",
              " 'level': 0,\n",
              " 'split': [2, 268.0],\n",
              " 'n_samples': 10886,\n",
              " 'gain': 44926.25966960726,\n",
              " 'sl': {'y_pred': 1,\n",
              "  'y_prob': 99.40521386990635,\n",
              "  'level': 1,\n",
              "  'split': -1,\n",
              "  'n_samples': 7900,\n",
              "  'gain': 9773.585342097762},\n",
              " 'sr': {'y_pred': 1,\n",
              "  'y_prob': 435.06626506024094,\n",
              "  'level': 1,\n",
              "  'split': -1,\n",
              "  'n_samples': 2986,\n",
              "  'gain': 29134.699658837984}}"
            ]
          },
          "metadata": {},
          "execution_count": 28
        }
      ]
    },
    {
      "cell_type": "code",
      "source": [
        "tree = tree_grow(X, y, level=0, min_gain=0.001, max_depth=3, num_pct=10)\n",
        "tree"
      ],
      "metadata": {
        "id": "cz3iXOm1MQ06",
        "colab": {
          "base_uri": "https://localhost:8080/"
        },
        "outputId": "4e502080-d243-406e-b65b-389851b05353"
      },
      "execution_count": null,
      "outputs": [
        {
          "output_type": "execute_result",
          "data": {
            "text/plain": [
              "{'y_pred': 1,\n",
              " 'y_prob': 191.53903379867745,\n",
              " 'level': 0,\n",
              " 'split': [2, 268.0],\n",
              " 'n_samples': 10886,\n",
              " 'gain': 44926.25966960726,\n",
              " 'sl': {'y_pred': 1,\n",
              "  'y_prob': 99.40521386990635,\n",
              "  'level': 1,\n",
              "  'split': [2, 99.0],\n",
              "  'n_samples': 7900,\n",
              "  'gain': 9773.585342097762,\n",
              "  'sl': {'y_pred': 1,\n",
              "   'y_prob': 35.18945403639757,\n",
              "   'level': 2,\n",
              "   'split': [2, 43.0],\n",
              "   'n_samples': 4284,\n",
              "   'gain': 1359.1187796229492,\n",
              "   'sl': {'y_pred': 1,\n",
              "    'y_prob': 15.477081041437478,\n",
              "    'level': 3,\n",
              "    'split': -1,\n",
              "    'n_samples': 2725,\n",
              "    'gain': 211.4647014688888},\n",
              "   'sr': {'y_pred': 1,\n",
              "    'y_prob': 69.58167841127482,\n",
              "    'level': 3,\n",
              "    'split': -1,\n",
              "    'n_samples': 1559,\n",
              "    'gain': 394.0588644335603}},\n",
              "  'sr': {'y_pred': 1,\n",
              "   'y_prob': 175.42260917634053,\n",
              "   'level': 2,\n",
              "   'split': [2, 179.0],\n",
              "   'n_samples': 3616,\n",
              "   'gain': 3336.2093430015375,\n",
              "   'sl': {'y_pred': 1,\n",
              "    'y_prob': 137.60635571501794,\n",
              "    'level': 3,\n",
              "    'split': -1,\n",
              "    'n_samples': 1949,\n",
              "    'gain': 802.7842625666235},\n",
              "   'sr': {'y_pred': 1,\n",
              "    'y_prob': 219.41881366087478,\n",
              "    'level': 3,\n",
              "    'split': -1,\n",
              "    'n_samples': 1667,\n",
              "    'gain': 948.8838286066166}}},\n",
              " 'sr': {'y_pred': 1,\n",
              "  'y_prob': 435.06626506024094,\n",
              "  'level': 1,\n",
              "  'split': [2, 498.0],\n",
              "  'n_samples': 2986,\n",
              "  'gain': 29134.699658837984,\n",
              "  'sl': {'y_pred': 1,\n",
              "   'y_prob': 360.7624538745387,\n",
              "   'level': 2,\n",
              "   'split': [2, 382.0],\n",
              "   'n_samples': 2166,\n",
              "   'gain': 6207.79092492655,\n",
              "   'sl': {'y_pred': 1,\n",
              "    'y_prob': 318.46120377084844,\n",
              "    'level': 3,\n",
              "    'split': -1,\n",
              "    'n_samples': 1377,\n",
              "    'gain': 1677.1337643064908},\n",
              "   'sr': {'y_pred': 1,\n",
              "    'y_prob': 433.59797724399493,\n",
              "    'level': 3,\n",
              "    'split': -1,\n",
              "    'n_samples': 789,\n",
              "    'gain': 1790.6105357299675}},\n",
              "  'sr': {'y_pred': 1,\n",
              "   'y_prob': 629.9829683698297,\n",
              "   'level': 2,\n",
              "   'split': [2, 682.0],\n",
              "   'n_samples': 820,\n",
              "   'gain': 16530.633092592005,\n",
              "   'sl': {'y_pred': 1,\n",
              "    'y_prob': 573.6850921273032,\n",
              "    'level': 3,\n",
              "    'split': -1,\n",
              "    'n_samples': 595,\n",
              "    'gain': 4098.010430892929},\n",
              "   'sr': {'y_pred': 1,\n",
              "    'y_prob': 772.4977973568282,\n",
              "    'level': 3,\n",
              "    'split': -1,\n",
              "    'n_samples': 225,\n",
              "    'gain': 6974.127198852366}}}}"
            ]
          },
          "metadata": {},
          "execution_count": 29
        }
      ]
    },
    {
      "cell_type": "code",
      "source": [
        "# Definición de la función tree_predict para hacer predicciones según las variables 'X' y el árbol 'tree'\n",
        "\n",
        "def tree_predict(X, tree, proba=False):\n",
        "    \n",
        "    predicted = np.ones(X.shape[0])\n",
        "\n",
        "    # Revisar si es el nodo final\n",
        "    if tree['split'] == -1:\n",
        "        if not proba:\n",
        "            predicted = predicted * tree['y_pred']\n",
        "        else:\n",
        "            predicted = predicted * tree['y_prob']\n",
        "            \n",
        "    else:\n",
        "        \n",
        "        j, split = tree['split']\n",
        "        filter_l = (X.iloc[:, j] < split)\n",
        "        X_l = X.loc[filter_l]\n",
        "        X_r = X.loc[~filter_l]\n",
        "\n",
        "        if X_l.shape[0] == 0:  # Si el nodo izquierdo está vacio solo continua con el derecho \n",
        "            predicted[~filter_l] = tree_predict(X_r, tree['sr'], proba)\n",
        "        elif X_r.shape[0] == 0:  #  Si el nodo derecho está vacio solo continua con el izquierdo\n",
        "            predicted[filter_l] = tree_predict(X_l, tree['sl'], proba)\n",
        "        else:\n",
        "            predicted[filter_l] = tree_predict(X_l, tree['sl'], proba)\n",
        "            predicted[~filter_l] = tree_predict(X_r, tree['sr'], proba)\n",
        "\n",
        "    return predicted"
      ],
      "metadata": {
        "id": "CU1QfRkMMUyL"
      },
      "execution_count": null,
      "outputs": []
    },
    {
      "cell_type": "code",
      "source": [
        "# Ejecución de función tree_predict\n",
        "tree_predict(X, tree)"
      ],
      "metadata": {
        "id": "s_C2jsIMMWme",
        "outputId": "b1956905-61b9-4d66-c616-dd3373095f1b",
        "colab": {
          "base_uri": "https://localhost:8080/"
        }
      },
      "execution_count": null,
      "outputs": [
        {
          "output_type": "execute_result",
          "data": {
            "text/plain": [
              "array([1., 1., 1., ..., 1., 1., 1.])"
            ]
          },
          "metadata": {},
          "execution_count": 31
        }
      ]
    },
    {
      "cell_type": "markdown",
      "metadata": {
        "id": "OETpIXk6xdwU"
      },
      "source": [
        "### Punto 5 - Árbol de decisión con librería\n",
        "En la celda 5 entrene un árbol de decisiones con la **librería sklearn**, usando las variables predictoras \"season\" y \"hour\" y calibre los parámetros que considere conveniente para obtener un mejor desempeño. Comente el desempeño del modelo con alguna métrica de desempeño de modelos de regresión y compare desempeño con el modelo del punto 3."
      ]
    },
    {
      "cell_type": "code",
      "execution_count": null,
      "metadata": {
        "id": "QtkH9Ss0xdwU",
        "colab": {
          "base_uri": "https://localhost:8080/",
          "height": 468
        },
        "outputId": "4abf0cca-4059-434d-9695-4a3c3f4a0666"
      },
      "outputs": [
        {
          "output_type": "execute_result",
          "data": {
            "text/plain": [
              "Text(0, 0.5, 'MSE')"
            ]
          },
          "metadata": {},
          "execution_count": 69
        },
        {
          "output_type": "display_data",
          "data": {
            "text/plain": [
              "<Figure size 640x480 with 1 Axes>"
            ],
            "image/png": "[encoded data removed]"
          },
          "metadata": {}
        }
      ],
      "source": [
        "# Celda 5\n",
        "\n",
        "X = bikes[['hour', 'season','total']]\n",
        "y = bikes['total']\n",
        "\n",
        "XTrain, XTest, yTrain, yTest = train_test_split(X, y, test_size=0.33, random_state=0)\n",
        "\n",
        "# Lista de valores para calibrar el criterio de parada de máxima profundidad (max_depth)\n",
        "max_depth_range = range(1, 21)\n",
        "\n",
        "# Lista para guardar los valores del RMSE para cada valor de máxima profundidad (max_depth)\n",
        "accuracy_scores = []\n",
        "\n",
        "# Loop para obtener el desempeño del modelo de acuerdo con la máxima profundidad\n",
        "for depth in max_depth_range:\n",
        "    # Definición del árbol de decisión usando DecisionTreeClassifier de la libreria sklearn\n",
        "    dtr = DecisionTreeRegressor(max_depth=depth, random_state=1)\n",
        "    dtr.fit(XTrain, yTrain)\n",
        "    y_pred = dtr.predict(XTest)\n",
        "    accuracy_scores.append(mean_squared_error(yTest, y_pred))\n",
        "\n",
        "\n",
        "# Gráfica max_depth versus RMSE (error del modelo)\n",
        "plt.plot(max_depth_range, accuracy_scores)\n",
        "plt.xlabel('max_depth')\n",
        "plt.ylabel('MSE')"
      ]
    },
    {
      "cell_type": "code",
      "source": [
        "dtr = DecisionTreeRegressor(max_depth= 10, random_state=1)\n",
        "dtr.fit(XTrain, yTrain)\n",
        "\n",
        "y_pred = dtr.predict(XTest)\n",
        "\n",
        "mse = mean_squared_error(yTest, y_pred)\n",
        "print('MSE:', mse)"
      ],
      "metadata": {
        "colab": {
          "base_uri": "https://localhost:8080/"
        },
        "id": "zbhuqk8-6Ymo",
        "outputId": "23f62d66-0a2a-40be-e2d9-6701d1f4595c"
      },
      "execution_count": null,
      "outputs": [
        {
          "output_type": "stream",
          "name": "stdout",
          "text": [
            "MSE: 0.09931144108280855\n"
          ]
        }
      ]
    },
    {
      "cell_type": "code",
      "source": [
        "fig = plt.figure()\n",
        "ax = fig.add_axes([0,0,1,1])\n",
        "ax.set_title(\"Comparación de modelos\")\n",
        "ejeX = ['Regresión Lineal','Arbol de Decisión']\n",
        "ejeY = [mserl,mse]\n",
        "ax.bar(ejeX,ejeY)\n",
        "def addlabels(x,y,plotP):\n",
        "    for i in range(len(x)):\n",
        "        plotP.text(i,y[i],round(y[i],5))\n",
        "addlabels(ejeX,ejeY,plt)\n",
        "plt.show()"
      ],
      "metadata": {
        "colab": {
          "base_uri": "https://localhost:8080/",
          "height": 564
        },
        "id": "Bp80BwAd6Ygs",
        "outputId": "594c52ac-aeff-4616-cdc5-e91d29b030bf"
      },
      "execution_count": null,
      "outputs": [
        {
          "output_type": "display_data",
          "data": {
            "text/plain": [
              "<Figure size 640x480 with 1 Axes>"
            ],
            "image/png": "[encoded data removed]"
          },
          "metadata": {}
        }
      ]
    },
    {
      "cell_type": "markdown",
      "source": [
        "Los resultados indican que el modelo de regresión basado en árboles de decisión ofrece un rendimiento superior al modelo de regresión lineal, ya que su error cuadrático medio (MSE) es de 0.09931, frente al valor de 25644.42 del modelo de regresión lineal. Esto sugiere que el modelo de regresión basado en árboles de decisión es una mejor opción para la predicción de resultados."
      ],
      "metadata": {
        "id": "QCz3zWSEGvEU"
      }
    },
    {
      "cell_type": "markdown",
      "metadata": {
        "id": "KQPGUNIYxdwU"
      },
      "source": [
        "## Parte B - Métodos de ensamblajes\n",
        "En esta parte del taller se usará el conjunto de datos de Popularidad de Noticias Online. El objetivo es predecir si la notica es popular o no, la popularidad está dada por la cantidad de reacciones en redes sociales. Para más detalles puede visitar el siguiente enlace: [datos](https://archive.ics.uci.edu/ml/datasets/online+news+popularity)."
      ]
    },
    {
      "cell_type": "markdown",
      "metadata": {
        "id": "tu5I-ONAxdwV"
      },
      "source": [
        "### Datos popularidad de noticias"
      ]
    },
    {
      "cell_type": "code",
      "execution_count": null,
      "metadata": {
        "id": "2mz6O2MSxdwV",
        "colab": {
          "base_uri": "https://localhost:8080/"
        },
        "outputId": "15dbab4c-ea1d-4c42-aee9-f0ff30efee4a"
      },
      "outputs": [
        {
          "output_type": "execute_result",
          "data": {
            "text/plain": [
              "                                                 url  timedelta  \\\n",
              "0  http://mashable.com/2014/12/10/cia-torture-rep...       28.0   \n",
              "1  http://mashable.com/2013/10/18/bitlock-kicksta...      447.0   \n",
              "2  http://mashable.com/2013/07/24/google-glass-po...      533.0   \n",
              "3  http://mashable.com/2013/11/21/these-are-the-m...      413.0   \n",
              "4  http://mashable.com/2014/02/11/parking-ticket-...      331.0   \n",
              "\n",
              "   n_tokens_title  n_tokens_content  n_unique_tokens  n_non_stop_words  \\\n",
              "0             9.0             188.0         0.732620               1.0   \n",
              "1             7.0             297.0         0.653199               1.0   \n",
              "2            11.0             181.0         0.660377               1.0   \n",
              "3            12.0             781.0         0.497409               1.0   \n",
              "4             8.0             177.0         0.685714               1.0   \n",
              "\n",
              "   n_non_stop_unique_tokens  num_hrefs  num_self_hrefs  num_imgs  ...  \\\n",
              "0                  0.844262        5.0             1.0       1.0  ...   \n",
              "1                  0.815789        9.0             4.0       1.0  ...   \n",
              "2                  0.775701        4.0             3.0       1.0  ...   \n",
              "3                  0.677350       10.0             3.0       1.0  ...   \n",
              "4                  0.830357        3.0             2.0       1.0  ...   \n",
              "\n",
              "   min_positive_polarity  max_positive_polarity  avg_negative_polarity  \\\n",
              "0               0.200000                   0.80              -0.487500   \n",
              "1               0.160000                   0.50              -0.135340   \n",
              "2               0.136364                   1.00               0.000000   \n",
              "3               0.100000                   1.00              -0.195701   \n",
              "4               0.100000                   0.55              -0.175000   \n",
              "\n",
              "   min_negative_polarity  max_negative_polarity  title_subjectivity  \\\n",
              "0                  -0.60              -0.250000                 0.9   \n",
              "1                  -0.40              -0.050000                 0.1   \n",
              "2                   0.00               0.000000                 0.3   \n",
              "3                  -0.40              -0.071429                 0.0   \n",
              "4                  -0.25              -0.100000                 0.0   \n",
              "\n",
              "   title_sentiment_polarity  abs_title_subjectivity  \\\n",
              "0                       0.8                     0.4   \n",
              "1                      -0.1                     0.4   \n",
              "2                       1.0                     0.2   \n",
              "3                       0.0                     0.5   \n",
              "4                       0.0                     0.5   \n",
              "\n",
              "   abs_title_sentiment_polarity  Popular  \n",
              "0                           0.8        1  \n",
              "1                           0.1        0  \n",
              "2                           1.0        0  \n",
              "3                           0.0        0  \n",
              "4                           0.0        0  \n",
              "\n",
              "[5 rows x 61 columns]"
            ],
            "text/html": [
              "\n",
              "  <div id=\"df-b4e8f68a-f379-4765-8e4e-a3ff86dd5626\">\n",
              "    <div class=\"colab-df-container\">\n",
              "      <div>\n",
              "<style scoped>\n",
              "    .dataframe tbody tr th:only-of-type {\n",
              "        vertical-align: middle;\n",
              "    }\n",
              "\n",
              "    .dataframe tbody tr th {\n",
              "        vertical-align: top;\n",
              "    }\n",
              "\n",
              "    .dataframe thead th {\n",
              "        text-align: right;\n",
              "    }\n",
              "</style>\n",
              "<table border=\"1\" class=\"dataframe\">\n",
              "  <thead>\n",
              "    <tr style=\"text-align: right;\">\n",
              "      <th></th>\n",
              "      <th>url</th>\n",
              "      <th>timedelta</th>\n",
              "      <th>n_tokens_title</th>\n",
              "      <th>n_tokens_content</th>\n",
              "      <th>n_unique_tokens</th>\n",
              "      <th>n_non_stop_words</th>\n",
              "      <th>n_non_stop_unique_tokens</th>\n",
              "      <th>num_hrefs</th>\n",
              "      <th>num_self_hrefs</th>\n",
              "      <th>num_imgs</th>\n",
              "      <th>...</th>\n",
              "      <th>min_positive_polarity</th>\n",
              "      <th>max_positive_polarity</th>\n",
              "      <th>avg_negative_polarity</th>\n",
              "      <th>min_negative_polarity</th>\n",
              "      <th>max_negative_polarity</th>\n",
              "      <th>title_subjectivity</th>\n",
              "      <th>title_sentiment_polarity</th>\n",
              "      <th>abs_title_subjectivity</th>\n",
              "      <th>abs_title_sentiment_polarity</th>\n",
              "      <th>Popular</th>\n",
              "    </tr>\n",
              "  </thead>\n",
              "  <tbody>\n",
              "    <tr>\n",
              "      <th>0</th>\n",
              "      <td>http://mashable.com/2014/12/10/cia-torture-rep...</td>\n",
              "      <td>28.0</td>\n",
              "      <td>9.0</td>\n",
              "      <td>188.0</td>\n",
              "      <td>0.732620</td>\n",
              "      <td>1.0</td>\n",
              "      <td>0.844262</td>\n",
              "      <td>5.0</td>\n",
              "      <td>1.0</td>\n",
              "      <td>1.0</td>\n",
              "      <td>...</td>\n",
              "      <td>0.200000</td>\n",
              "      <td>0.80</td>\n",
              "      <td>-0.487500</td>\n",
              "      <td>-0.60</td>\n",
              "      <td>-0.250000</td>\n",
              "      <td>0.9</td>\n",
              "      <td>0.8</td>\n",
              "      <td>0.4</td>\n",
              "      <td>0.8</td>\n",
              "      <td>1</td>\n",
              "    </tr>\n",
              "    <tr>\n",
              "      <th>1</th>\n",
              "      <td>http://mashable.com/2013/10/18/bitlock-kicksta...</td>\n",
              "      <td>447.0</td>\n",
              "      <td>7.0</td>\n",
              "      <td>297.0</td>\n",
              "      <td>0.653199</td>\n",
              "      <td>1.0</td>\n",
              "      <td>0.815789</td>\n",
              "      <td>9.0</td>\n",
              "      <td>4.0</td>\n",
              "      <td>1.0</td>\n",
              "      <td>...</td>\n",
              "      <td>0.160000</td>\n",
              "      <td>0.50</td>\n",
              "      <td>-0.135340</td>\n",
              "      <td>-0.40</td>\n",
              "      <td>-0.050000</td>\n",
              "      <td>0.1</td>\n",
              "      <td>-0.1</td>\n",
              "      <td>0.4</td>\n",
              "      <td>0.1</td>\n",
              "      <td>0</td>\n",
              "    </tr>\n",
              "    <tr>\n",
              "      <th>2</th>\n",
              "      <td>http://mashable.com/2013/07/24/google-glass-po...</td>\n",
              "      <td>533.0</td>\n",
              "      <td>11.0</td>\n",
              "      <td>181.0</td>\n",
              "      <td>0.660377</td>\n",
              "      <td>1.0</td>\n",
              "      <td>0.775701</td>\n",
              "      <td>4.0</td>\n",
              "      <td>3.0</td>\n",
              "      <td>1.0</td>\n",
              "      <td>...</td>\n",
              "      <td>0.136364</td>\n",
              "      <td>1.00</td>\n",
              "      <td>0.000000</td>\n",
              "      <td>0.00</td>\n",
              "      <td>0.000000</td>\n",
              "      <td>0.3</td>\n",
              "      <td>1.0</td>\n",
              "      <td>0.2</td>\n",
              "      <td>1.0</td>\n",
              "      <td>0</td>\n",
              "    </tr>\n",
              "    <tr>\n",
              "      <th>3</th>\n",
              "      <td>http://mashable.com/2013/11/21/these-are-the-m...</td>\n",
              "      <td>413.0</td>\n",
              "      <td>12.0</td>\n",
              "      <td>781.0</td>\n",
              "      <td>0.497409</td>\n",
              "      <td>1.0</td>\n",
              "      <td>0.677350</td>\n",
              "      <td>10.0</td>\n",
              "      <td>3.0</td>\n",
              "      <td>1.0</td>\n",
              "      <td>...</td>\n",
              "      <td>0.100000</td>\n",
              "      <td>1.00</td>\n",
              "      <td>-0.195701</td>\n",
              "      <td>-0.40</td>\n",
              "      <td>-0.071429</td>\n",
              "      <td>0.0</td>\n",
              "      <td>0.0</td>\n",
              "      <td>0.5</td>\n",
              "      <td>0.0</td>\n",
              "      <td>0</td>\n",
              "    </tr>\n",
              "    <tr>\n",
              "      <th>4</th>\n",
              "      <td>http://mashable.com/2014/02/11/parking-ticket-...</td>\n",
              "      <td>331.0</td>\n",
              "      <td>8.0</td>\n",
              "      <td>177.0</td>\n",
              "      <td>0.685714</td>\n",
              "      <td>1.0</td>\n",
              "      <td>0.830357</td>\n",
              "      <td>3.0</td>\n",
              "      <td>2.0</td>\n",
              "      <td>1.0</td>\n",
              "      <td>...</td>\n",
              "      <td>0.100000</td>\n",
              "      <td>0.55</td>\n",
              "      <td>-0.175000</td>\n",
              "      <td>-0.25</td>\n",
              "      <td>-0.100000</td>\n",
              "      <td>0.0</td>\n",
              "      <td>0.0</td>\n",
              "      <td>0.5</td>\n",
              "      <td>0.0</td>\n",
              "      <td>0</td>\n",
              "    </tr>\n",
              "  </tbody>\n",
              "</table>\n",
              "<p>5 rows × 61 columns</p>\n",
              "</div>\n",
              "      <button class=\"colab-df-convert\" onclick=\"convertToInteractive('df-b4e8f68a-f379-4765-8e4e-a3ff86dd5626')\"\n",
              "              title=\"Convert this dataframe to an interactive table.\"\n",
              "              style=\"display:none;\">\n",
              "        \n",
              "  <svg xmlns=\"http://www.w3.org/2000/svg\" height=\"24px\"viewBox=\"0 0 24 24\"\n",
              "       width=\"24px\">\n",
              "    <path d=\"M0 0h24v24H0V0z\" fill=\"none\"/>\n",
              "    <path d=\"M18.56 5.44l.94 2.06.94-2.06 2.06-.94-2.06-.94-.94-2.06-.94 2.06-2.06.94zm-11 1L8.5 8.5l.94-2.06 2.06-.94-2.06-.94L8.5 2.5l-.94 2.06-2.06.94zm10 10l.94 2.06.94-2.06 2.06-.94-2.06-.94-.94-2.06-.94 2.06-2.06.94z\"/><path d=\"M17.41 7.96l-1.37-1.37c-.4-.4-.92-.59-1.43-.59-.52 0-1.04.2-1.43.59L10.3 9.45l-7.72 7.72c-.78.78-.78 2.05 0 2.83L4 21.41c.39.39.9.59 1.41.59.51 0 1.02-.2 1.41-.59l7.78-7.78 2.81-2.81c.8-.78.8-2.07 0-2.86zM5.41 20L4 18.59l7.72-7.72 1.47 1.35L5.41 20z\"/>\n",
              "  </svg>\n",
              "      </button>\n",
              "      \n",
              "  <style>\n",
              "    .colab-df-container {\n",
              "      display:flex;\n",
              "      flex-wrap:wrap;\n",
              "      gap: 12px;\n",
              "    }\n",
              "\n",
              "    .colab-df-convert {\n",
              "      background-color: #E8F0FE;\n",
              "      border: none;\n",
              "      border-radius: 50%;\n",
              "      cursor: pointer;\n",
              "      display: none;\n",
              "      fill: #1967D2;\n",
              "      height: 32px;\n",
              "      padding: 0 0 0 0;\n",
              "      width: 32px;\n",
              "    }\n",
              "\n",
              "    .colab-df-convert:hover {\n",
              "      background-color: #E2EBFA;\n",
              "      box-shadow: 0px 1px 2px rgba(60, 64, 67, 0.3), 0px 1px 3px 1px rgba(60, 64, 67, 0.15);\n",
              "      fill: #174EA6;\n",
              "    }\n",
              "\n",
              "    [theme=dark] .colab-df-convert {\n",
              "      background-color: #3B4455;\n",
              "      fill: #D2E3FC;\n",
              "    }\n",
              "\n",
              "    [theme=dark] .colab-df-convert:hover {\n",
              "      background-color: #434B5C;\n",
              "      box-shadow: 0px 1px 3px 1px rgba(0, 0, 0, 0.15);\n",
              "      filter: drop-shadow(0px 1px 2px rgba(0, 0, 0, 0.3));\n",
              "      fill: #FFFFFF;\n",
              "    }\n",
              "  </style>\n",
              "\n",
              "      <script>\n",
              "        const buttonEl =\n",
              "          document.querySelector('#df-b4e8f68a-f379-4765-8e4e-a3ff86dd5626 button.colab-df-convert');\n",
              "        buttonEl.style.display =\n",
              "          google.colab.kernel.accessAllowed ? 'block' : 'none';\n",
              "\n",
              "        async function convertToInteractive(key) {\n",
              "          const element = document.querySelector('#df-b4e8f68a-f379-4765-8e4e-a3ff86dd5626');\n",
              "          const dataTable =\n",
              "            await google.colab.kernel.invokeFunction('convertToInteractive',\n",
              "                                                     [key], {});\n",
              "          if (!dataTable) return;\n",
              "\n",
              "          const docLinkHtml = 'Like what you see? Visit the ' +\n",
              "            '<a target=\"_blank\" href=https://colab.research.google.com/notebooks/data_table.ipynb>data table notebook</a>'\n",
              "            + ' to learn more about interactive tables.';\n",
              "          element.innerHTML = '';\n",
              "          dataTable['output_type'] = 'display_data';\n",
              "          await google.colab.output.renderOutput(dataTable, element);\n",
              "          const docLink = document.createElement('div');\n",
              "          docLink.innerHTML = docLinkHtml;\n",
              "          element.appendChild(docLink);\n",
              "        }\n",
              "      </script>\n",
              "    </div>\n",
              "  </div>\n",
              "  "
            ]
          },
          "metadata": {},
          "execution_count": 3
        }
      ],
      "source": [
        "# Lectura de la información de archivo .csv\n",
        "df = pd.read_csv('https://raw.githubusercontent.com/davidzarruk/MIAD_ML_NLP_2023/main/datasets/mashable.csv', index_col=0)\n",
        "df.head()"
      ]
    },
    {
      "cell_type": "code",
      "execution_count": null,
      "metadata": {
        "id": "eLa_Jfc-xdwV",
        "colab": {
          "base_uri": "https://localhost:8080/"
        },
        "outputId": "7ec0c065-dbe5-43d1-c847-889970ea643d"
      },
      "outputs": [
        {
          "output_type": "execute_result",
          "data": {
            "text/plain": [
              "0.5"
            ]
          },
          "metadata": {},
          "execution_count": 4
        }
      ],
      "source": [
        "# Definición variable de interes y variables predictoras\n",
        "X = df.drop(['url', 'Popular'], axis=1)\n",
        "y = df['Popular']\n",
        "y.mean()"
      ]
    },
    {
      "cell_type": "code",
      "execution_count": null,
      "metadata": {
        "id": "mHXseMpqxdwV"
      },
      "outputs": [],
      "source": [
        "# División de la muestra en set de entrenamiento y prueba\n",
        "from sklearn.model_selection import train_test_split\n",
        "X_train, X_test, y_train, y_test = train_test_split(X, y, random_state=1)"
      ]
    },
    {
      "cell_type": "markdown",
      "metadata": {
        "id": "cYf15sA5xdwV"
      },
      "source": [
        "### Punto 6 - Árbol de decisión y regresión logística\n",
        "En la celda 6 construya un árbol de decisión y una regresión logística. Para el árbol calibre al menos un parámetro y evalúe el desempeño de cada modelo usando las métricas de Accuracy y F1-Score."
      ]
    },
    {
      "cell_type": "markdown",
      "source": [
        "#### Árbol de Decisión\n"
      ],
      "metadata": {
        "id": "hwBLsShdKmo1"
      }
    },
    {
      "cell_type": "code",
      "execution_count": null,
      "metadata": {
        "id": "ps2XUUSFxdwV",
        "colab": {
          "base_uri": "https://localhost:8080/"
        },
        "outputId": "8c9f2c51-5b29-4e1d-e957-74a7a0840635"
      },
      "outputs": [
        {
          "output_type": "execute_result",
          "data": {
            "text/plain": [
              "Text(0, 0.5, 'AUC')"
            ]
          },
          "metadata": {},
          "execution_count": 6
        },
        {
          "output_type": "display_data",
          "data": {
            "text/plain": [
              "<Figure size 640x480 with 1 Axes>"
            ],
            "image/png": "[encoded data removed]"
          },
          "metadata": {}
        }
      ],
      "source": [
        "#Calibración\n",
        "\n",
        "#X_train, X_test , y_train, y_test\n",
        "\n",
        "# Lista de valores para calibrar el criterio de parada de máxima profundidad (max_depth)\n",
        "max_depth_range = range(1, 21)\n",
        "\n",
        "# Lista para guardar los valores del RMSE para cada valor de máxima profundidad (max_depth)\n",
        "AUC_Scores = []\n",
        "\n",
        "# Loop para obtener el desempeño del modelo de acuerdo con la máxima profundidad\n",
        "for depth in max_depth_range:\n",
        "    # Definición del árbol de decisión usando DecisionTreeClassifier de la libreria sklearn\n",
        "    clf = DecisionTreeClassifier(max_depth=depth, random_state=1)\n",
        "    clf.fit(X_train, y_train)\n",
        "    prediccionDT=clf.predict_proba(X_test)[:,0]\n",
        "    fpr, tpr, thresholds = metrics.roc_curve(y_test, prediccionDT, pos_label=0)\n",
        "    AUC_Scores.append(metrics.auc(fpr, tpr))\n",
        "\n",
        "plt.plot(max_depth_range, AUC_Scores)\n",
        "plt.xlabel('max_depth')\n",
        "plt.ylabel('AUC')"
      ]
    },
    {
      "cell_type": "code",
      "source": [
        "#Se entrena el modelo\n",
        "clf = DecisionTreeClassifier(max_depth=4, random_state=1)\n",
        "clf.fit(X_train, y_train)\n",
        "\n",
        "#Luego se hacen predicciones sobre la muestra\n",
        "prediccionDT = clf.predict_proba(X_test)[:,0]\n",
        "\n",
        "fpr, tpr, thresholds = metrics.roc_curve(y_test, prediccionDT, pos_label=0)\n",
        "AUCAD=metrics.auc(fpr, tpr)\n",
        "plt.title('Receiver Operating Characteristic')\n",
        "plt.plot(fpr, tpr, 'b', label = 'AUC = %0.2f' % AUCAD)\n",
        "plt.legend(loc = 'lower right')\n",
        "plt.plot([0, 1], [0, 1],'r--')\n",
        "plt.xlim([-0.01, 1])\n",
        "plt.ylim([0, 1.05])\n",
        "plt.ylabel('True Positive Rate')\n",
        "plt.xlabel('False Positive Rate')\n",
        "plt.show()"
      ],
      "metadata": {
        "colab": {
          "base_uri": "https://localhost:8080/"
        },
        "id": "qnY6XcM0KvYd",
        "outputId": "7d91b04d-b586-4538-a759-1fcebd1f017e"
      },
      "execution_count": null,
      "outputs": [
        {
          "output_type": "display_data",
          "data": {
            "text/plain": [
              "<Figure size 640x480 with 1 Axes>"
            ],
            "image/png": "[encoded data removed]"
          },
          "metadata": {}
        }
      ]
    },
    {
      "cell_type": "code",
      "source": [
        "y_pred = clf.predict(X_test)\n",
        "\n",
        "# Matriz de confusión\n",
        "print(' ')\n",
        "print('Matriz de confusión: ')\n",
        "print(confusion_matrix(y_true=y_test, y_pred=y_pred))\n",
        "\n",
        "#accuracy\n",
        "accuracySVMP = accuracy_score(y_true=y_test, y_pred=y_pred)\n",
        "print('Accuracy: ' + str(accuracySVMP))\n",
        "\n",
        "#precision\n",
        "precisionSVMP = precision_score(y_true=y_test, y_pred=y_pred)\n",
        "print('Precision: '+ str(precisionSVMP))\n",
        "\n",
        "#f1 score\n",
        "f1score = f1_score(y_test, y_pred, average='macro')\n",
        "print('f1 score: '+ str(f1score))"
      ],
      "metadata": {
        "colab": {
          "base_uri": "https://localhost:8080/"
        },
        "id": "w2DKaBtHK5yf",
        "outputId": "6e3938df-06ab-4066-9045-337d52db9f00"
      },
      "execution_count": null,
      "outputs": [
        {
          "output_type": "stream",
          "name": "stdout",
          "text": [
            " \n",
            "Matriz de confusión: \n",
            "[[523 221]\n",
            " [302 454]]\n",
            "Accuracy: 0.6513333333333333\n",
            "Precision: 0.6725925925925926\n",
            "f1 score: 0.6505939902166318\n"
          ]
        }
      ]
    },
    {
      "cell_type": "markdown",
      "source": [
        "#### Regresión Logistica"
      ],
      "metadata": {
        "id": "Xt9BmFXYNeYB"
      }
    },
    {
      "cell_type": "code",
      "source": [
        "#X_train, X_test , y_train, y_test\n",
        "\n",
        "modelo = LogisticRegression()\n",
        "modelo.fit(X_train, y_train)\n",
        "\n",
        "# Hacer predicciones en el conjunto de prueba\n",
        "y_pred = modelo.predict(X_test)\n",
        "\n",
        "#precision\n",
        "accuracy = accuracy_score(y_test, y_pred)\n",
        "print('Precisión:', accuracy)\n",
        "\n",
        "#f1 score\n",
        "f1score = f1_score(y_test, y_pred, average='macro')\n",
        "print('f1 score: '+ str(f1score))"
      ],
      "metadata": {
        "colab": {
          "base_uri": "https://localhost:8080/"
        },
        "id": "AwdncaR_NmDx",
        "outputId": "3917429c-cfbf-4b39-bceb-ad67cfed2a2c"
      },
      "execution_count": null,
      "outputs": [
        {
          "output_type": "stream",
          "name": "stdout",
          "text": [
            "Precisión: 0.6133333333333333\n",
            "f1 score: 0.6133085850827786\n"
          ]
        }
      ]
    },
    {
      "cell_type": "code",
      "source": [
        "#Luego se hacen predicciones sobre la muestra\n",
        "prediccionModelo = modelo.predict_proba(X_test)[:,0]\n",
        "\n",
        "fpr, tpr, thresholds = metrics.roc_curve(y_test, prediccionModelo, pos_label=0)\n",
        "AUCAD=metrics.auc(fpr, tpr)\n",
        "plt.title('Receiver Operating Characteristic')\n",
        "plt.plot(fpr, tpr, 'b', label = 'AUC = %0.2f' % AUCAD)\n",
        "plt.legend(loc = 'lower right')\n",
        "plt.plot([0, 1], [0, 1],'r--')\n",
        "plt.xlim([-0.01, 1])\n",
        "plt.ylim([0, 1.05])\n",
        "plt.ylabel('True Positive Rate')\n",
        "plt.xlabel('False Positive Rate')\n",
        "plt.show()"
      ],
      "metadata": {
        "colab": {
          "base_uri": "https://localhost:8080/"
        },
        "id": "bClva2vZxhiD",
        "outputId": "8792fe8a-ba58-4ddd-fa74-671f9c9fa743"
      },
      "execution_count": null,
      "outputs": [
        {
          "output_type": "display_data",
          "data": {
            "text/plain": [
              "<Figure size 640x480 with 1 Axes>"
            ],
            "image/png": "[encoded data removed]"
          },
          "metadata": {}
        }
      ]
    },
    {
      "cell_type": "markdown",
      "metadata": {
        "id": "QDyYl4OIxdwV"
      },
      "source": [
        "### Punto 7 - Votación Mayoritaria\n",
        "En la celda 7 elabore un esamble con la metodología de **Votación mayoritaria** compuesto por 300 muestras bagged para cada uno de los siguientes escenarios:\n",
        "\n",
        "-100 árboles de decisión donde max_depth tome un valor de su elección\\\n",
        "-100 árboles de decisión donde min_samples_leaf tome un valor de su elección\\\n",
        "-100 regresiones logísticas\n",
        "\n",
        "Evalúe cada uno de los tres modelos de manera independiente utilizando las métricas de Accuracy y F1-Score, luego evalúe el ensamble de modelos y compare los resultados. "
      ]
    },
    {
      "cell_type": "code",
      "source": [
        "# Entrenar los modelos base\n",
        "model1 = BaggingClassifier(base_estimator= DecisionTreeClassifier(max_depth= 4), n_estimators=100, bootstrap=True,\n",
        "                        random_state=42, n_jobs=-1, oob_score=True)\n",
        "\n",
        "\n",
        "model2 = BaggingClassifier(base_estimator= DecisionTreeClassifier(min_samples_leaf=10), n_estimators=100, bootstrap=True,\n",
        "                        random_state=42, n_jobs=-1, oob_score=True)\n",
        "\n",
        "\n",
        "model3 = BaggingClassifier(base_estimator= LogisticRegression(), n_estimators=100, bootstrap=True,\n",
        "                        random_state=42, n_jobs=-1, oob_score=True)\n",
        "\n",
        "\n",
        "# Definición del modelo BaggingClassifier de la libreria sklearn\n",
        "clf1 = model1\n",
        "\n",
        "\n",
        "clf2 = model2\n",
        "\n",
        "\n",
        "clf3 = model3\n",
        "\n",
        "\n",
        "#Train\n",
        "\n",
        "m1 = clf1.fit(X_train, y_train)\n",
        "m2 = clf2.fit(X_train, y_train)\n",
        "m3 = clf3.fit(X_train, y_train)\n",
        "\n",
        "\n",
        "#Prediciones\n",
        "\n",
        "m1_pred = m1.predict(X_test)\n",
        "m2_pred = m2.predict(X_test)\n",
        "m3_pred = m3.predict(X_test)\n",
        "\n",
        "\n",
        "# Evaluar los modelos base y el ensamble utilizando accuracy y F1-score\n",
        "m1_acc = accuracy_score(y_test, m1_pred)\n",
        "m2_acc = accuracy_score(y_test, m2_pred)\n",
        "m3_acc = accuracy_score(y_test, m3_pred)\n",
        "\n",
        "\n",
        "m1_f1 = f1_score(y_test, m1_pred)\n",
        "m2_f1 = f1_score(y_test, m2_pred)\n",
        "m3_f1 = f1_score(y_test, m3_pred)\n",
        "\n",
        "\n",
        "print(\"Accuracy de los modelos base:\")\n",
        "print(\"Árbol de decisión 1:\", m1_acc)\n",
        "print(\"Árbol de decisión 2:\", m2_acc)\n",
        "print(\"Regresión logística:\", m3_acc)\n",
        "\n",
        "print(\"\\nF1-score de los modelos base:\")\n",
        "print(\"Árbol de decisión 1:\", m1_f1)\n",
        "print(\"Árbol de decisión 2:\", m2_f1)\n",
        "print(\"Regresión logística:\", m3_f1)\n",
        "\n"
      ],
      "metadata": {
        "id": "BqvFwq1f4OAG",
        "colab": {
          "base_uri": "https://localhost:8080/"
        },
        "outputId": "41d6bad6-3335-47da-8bb7-cf3ac72dbfe1"
      },
      "execution_count": 128,
      "outputs": [
        {
          "output_type": "stream",
          "name": "stdout",
          "text": [
            "Accuracy de los modelos base:\n",
            "Árbol de decisión 1: 0.885\n",
            "Árbol de decisión 2: 0.885\n",
            "Regresión logística: 0.825\n",
            "\n",
            "F1-score de los modelos base:\n",
            "Árbol de decisión 1: 0.8930232558139535\n",
            "Árbol de decisión 2: 0.892018779342723\n",
            "Regresión logística: 0.8387096774193548\n"
          ]
        }
      ]
    },
    {
      "cell_type": "markdown",
      "source": [
        "Ensamblaje\n",
        "\n"
      ],
      "metadata": {
        "id": "PCGhJTTodkeN"
      }
    },
    {
      "cell_type": "code",
      "source": [
        "models = [model1, model2, model3]\n",
        "\n",
        "trees1 = {}\n",
        "trees2 = {}\n",
        "trees3 = {}\n",
        "\n",
        "iter = [trees1, trees2, trees3]\n",
        "\n",
        "\n",
        "for m, k in zip(models, iter):\n",
        "\n",
        "  # Creación de 100 muestras de bootstrap\n",
        "  n_estimators = 100\n",
        "  np.random.seed(123)\n",
        "\n",
        "  n_samples = X_train.shape[0]\n",
        "  samples = [np.random.choice(a=n_samples, size=n_samples, replace=True) for _ in range(n_estimators)]\n",
        "\n",
        "  # Entrenamiento de 100 modelos con las 100 muestras boostrap\n",
        "\n",
        "  np.random.seed(123) \n",
        "  seeds = np.random.randint(1, 10000, size=n_estimators)\n",
        "\n",
        "  for i in range(n_estimators):\n",
        "    k[i] = m\n",
        "    k[i].fit(pd.DataFrame(X_train).iloc[samples[i]], pd.Series(y_train).iloc[samples[i]])"
      ],
      "metadata": {
        "id": "mxd5aANYdmyw"
      },
      "execution_count": 129,
      "outputs": []
    },
    {
      "cell_type": "code",
      "source": [
        "Ntrees2 = {}\n",
        "for key, value in trees2.items():\n",
        "    new_key = key + 100  # Nuevo key\n",
        "    Ntrees2[new_key] = value  # Agregar el par clave-valor al nuevo diccionario\n",
        "\n",
        "Ntrees3 = {}\n",
        "for key, value in trees3.items():\n",
        "    new_key = key + 200  # Nuevo key\n",
        "    Ntrees3[new_key] = value  # Agregar el par clave-valor al nuevo diccionario\n",
        "\n",
        "\n",
        "treesALL = {**trees1, **Ntrees2,**Ntrees3}"
      ],
      "metadata": {
        "id": "RBeZUHPMkK4Q"
      },
      "execution_count": 130,
      "outputs": []
    },
    {
      "cell_type": "code",
      "source": [
        "# asegurarse de que X_test es un DataFrame\n",
        "\n",
        "n_estimators = 300\n",
        "\n",
        "#treesALL\n",
        "\n",
        "if isinstance(X_test, np.ndarray):\n",
        "    X_test = pd.DataFrame(X_test, index=range(X_test.shape[0]), columns=range(X_test.shape[1]))\n",
        "\n",
        "y_pred_df = pd.DataFrame(index=X_test.index, columns=list(range(n_estimators)))\n",
        "for i in range(n_estimators):\n",
        "    y_pred_df.iloc[:, i] = treesALL[i].predict(X_test)\n",
        "\n",
        "y_pred_df.head()"
      ],
      "metadata": {
        "colab": {
          "base_uri": "https://localhost:8080/",
          "height": 235
        },
        "id": "z1CwGfA9dmjg",
        "outputId": "36bbeee1-eded-441e-9b16-0a8b5e50b54d"
      },
      "execution_count": 131,
      "outputs": [
        {
          "output_type": "execute_result",
          "data": {
            "text/plain": [
              "   0    1    2    3    4    5    6    7    8    9    ...  290  291  292  293  \\\n",
              "0    0    0    0    0    0    0    0    0    0    0  ...    0    0    0    0   \n",
              "1    1    1    1    1    1    1    1    1    1    1  ...    1    1    1    1   \n",
              "2    1    1    1    1    1    1    1    1    1    1  ...    0    0    0    0   \n",
              "3    1    1    1    1    1    1    1    1    1    1  ...    1    1    1    1   \n",
              "4    0    0    0    0    0    0    0    0    0    0  ...    0    0    0    0   \n",
              "\n",
              "   294  295  296  297  298  299  \n",
              "0    0    0    0    0    0    0  \n",
              "1    1    1    1    1    1    1  \n",
              "2    0    0    0    0    0    0  \n",
              "3    1    1    1    1    1    1  \n",
              "4    0    0    0    0    0    0  \n",
              "\n",
              "[5 rows x 300 columns]"
            ],
            "text/html": [
              "\n",
              "  <div id=\"df-280916ff-d4ac-45ce-ac93-36cde6e61c20\">\n",
              "    <div class=\"colab-df-container\">\n",
              "      <div>\n",
              "<style scoped>\n",
              "    .dataframe tbody tr th:only-of-type {\n",
              "        vertical-align: middle;\n",
              "    }\n",
              "\n",
              "    .dataframe tbody tr th {\n",
              "        vertical-align: top;\n",
              "    }\n",
              "\n",
              "    .dataframe thead th {\n",
              "        text-align: right;\n",
              "    }\n",
              "</style>\n",
              "<table border=\"1\" class=\"dataframe\">\n",
              "  <thead>\n",
              "    <tr style=\"text-align: right;\">\n",
              "      <th></th>\n",
              "      <th>0</th>\n",
              "      <th>1</th>\n",
              "      <th>2</th>\n",
              "      <th>3</th>\n",
              "      <th>4</th>\n",
              "      <th>5</th>\n",
              "      <th>6</th>\n",
              "      <th>7</th>\n",
              "      <th>8</th>\n",
              "      <th>9</th>\n",
              "      <th>...</th>\n",
              "      <th>290</th>\n",
              "      <th>291</th>\n",
              "      <th>292</th>\n",
              "      <th>293</th>\n",
              "      <th>294</th>\n",
              "      <th>295</th>\n",
              "      <th>296</th>\n",
              "      <th>297</th>\n",
              "      <th>298</th>\n",
              "      <th>299</th>\n",
              "    </tr>\n",
              "  </thead>\n",
              "  <tbody>\n",
              "    <tr>\n",
              "      <th>0</th>\n",
              "      <td>0</td>\n",
              "      <td>0</td>\n",
              "      <td>0</td>\n",
              "      <td>0</td>\n",
              "      <td>0</td>\n",
              "      <td>0</td>\n",
              "      <td>0</td>\n",
              "      <td>0</td>\n",
              "      <td>0</td>\n",
              "      <td>0</td>\n",
              "      <td>...</td>\n",
              "      <td>0</td>\n",
              "      <td>0</td>\n",
              "      <td>0</td>\n",
              "      <td>0</td>\n",
              "      <td>0</td>\n",
              "      <td>0</td>\n",
              "      <td>0</td>\n",
              "      <td>0</td>\n",
              "      <td>0</td>\n",
              "      <td>0</td>\n",
              "    </tr>\n",
              "    <tr>\n",
              "      <th>1</th>\n",
              "      <td>1</td>\n",
              "      <td>1</td>\n",
              "      <td>1</td>\n",
              "      <td>1</td>\n",
              "      <td>1</td>\n",
              "      <td>1</td>\n",
              "      <td>1</td>\n",
              "      <td>1</td>\n",
              "      <td>1</td>\n",
              "      <td>1</td>\n",
              "      <td>...</td>\n",
              "      <td>1</td>\n",
              "      <td>1</td>\n",
              "      <td>1</td>\n",
              "      <td>1</td>\n",
              "      <td>1</td>\n",
              "      <td>1</td>\n",
              "      <td>1</td>\n",
              "      <td>1</td>\n",
              "      <td>1</td>\n",
              "      <td>1</td>\n",
              "    </tr>\n",
              "    <tr>\n",
              "      <th>2</th>\n",
              "      <td>1</td>\n",
              "      <td>1</td>\n",
              "      <td>1</td>\n",
              "      <td>1</td>\n",
              "      <td>1</td>\n",
              "      <td>1</td>\n",
              "      <td>1</td>\n",
              "      <td>1</td>\n",
              "      <td>1</td>\n",
              "      <td>1</td>\n",
              "      <td>...</td>\n",
              "      <td>0</td>\n",
              "      <td>0</td>\n",
              "      <td>0</td>\n",
              "      <td>0</td>\n",
              "      <td>0</td>\n",
              "      <td>0</td>\n",
              "      <td>0</td>\n",
              "      <td>0</td>\n",
              "      <td>0</td>\n",
              "      <td>0</td>\n",
              "    </tr>\n",
              "    <tr>\n",
              "      <th>3</th>\n",
              "      <td>1</td>\n",
              "      <td>1</td>\n",
              "      <td>1</td>\n",
              "      <td>1</td>\n",
              "      <td>1</td>\n",
              "      <td>1</td>\n",
              "      <td>1</td>\n",
              "      <td>1</td>\n",
              "      <td>1</td>\n",
              "      <td>1</td>\n",
              "      <td>...</td>\n",
              "      <td>1</td>\n",
              "      <td>1</td>\n",
              "      <td>1</td>\n",
              "      <td>1</td>\n",
              "      <td>1</td>\n",
              "      <td>1</td>\n",
              "      <td>1</td>\n",
              "      <td>1</td>\n",
              "      <td>1</td>\n",
              "      <td>1</td>\n",
              "    </tr>\n",
              "    <tr>\n",
              "      <th>4</th>\n",
              "      <td>0</td>\n",
              "      <td>0</td>\n",
              "      <td>0</td>\n",
              "      <td>0</td>\n",
              "      <td>0</td>\n",
              "      <td>0</td>\n",
              "      <td>0</td>\n",
              "      <td>0</td>\n",
              "      <td>0</td>\n",
              "      <td>0</td>\n",
              "      <td>...</td>\n",
              "      <td>0</td>\n",
              "      <td>0</td>\n",
              "      <td>0</td>\n",
              "      <td>0</td>\n",
              "      <td>0</td>\n",
              "      <td>0</td>\n",
              "      <td>0</td>\n",
              "      <td>0</td>\n",
              "      <td>0</td>\n",
              "      <td>0</td>\n",
              "    </tr>\n",
              "  </tbody>\n",
              "</table>\n",
              "<p>5 rows × 300 columns</p>\n",
              "</div>\n",
              "      <button class=\"colab-df-convert\" onclick=\"convertToInteractive('df-280916ff-d4ac-45ce-ac93-36cde6e61c20')\"\n",
              "              title=\"Convert this dataframe to an interactive table.\"\n",
              "              style=\"display:none;\">\n",
              "        \n",
              "  <svg xmlns=\"http://www.w3.org/2000/svg\" height=\"24px\"viewBox=\"0 0 24 24\"\n",
              "       width=\"24px\">\n",
              "    <path d=\"M0 0h24v24H0V0z\" fill=\"none\"/>\n",
              "    <path d=\"M18.56 5.44l.94 2.06.94-2.06 2.06-.94-2.06-.94-.94-2.06-.94 2.06-2.06.94zm-11 1L8.5 8.5l.94-2.06 2.06-.94-2.06-.94L8.5 2.5l-.94 2.06-2.06.94zm10 10l.94 2.06.94-2.06 2.06-.94-2.06-.94-.94-2.06-.94 2.06-2.06.94z\"/><path d=\"M17.41 7.96l-1.37-1.37c-.4-.4-.92-.59-1.43-.59-.52 0-1.04.2-1.43.59L10.3 9.45l-7.72 7.72c-.78.78-.78 2.05 0 2.83L4 21.41c.39.39.9.59 1.41.59.51 0 1.02-.2 1.41-.59l7.78-7.78 2.81-2.81c.8-.78.8-2.07 0-2.86zM5.41 20L4 18.59l7.72-7.72 1.47 1.35L5.41 20z\"/>\n",
              "  </svg>\n",
              "      </button>\n",
              "      \n",
              "  <style>\n",
              "    .colab-df-container {\n",
              "      display:flex;\n",
              "      flex-wrap:wrap;\n",
              "      gap: 12px;\n",
              "    }\n",
              "\n",
              "    .colab-df-convert {\n",
              "      background-color: #E8F0FE;\n",
              "      border: none;\n",
              "      border-radius: 50%;\n",
              "      cursor: pointer;\n",
              "      display: none;\n",
              "      fill: #1967D2;\n",
              "      height: 32px;\n",
              "      padding: 0 0 0 0;\n",
              "      width: 32px;\n",
              "    }\n",
              "\n",
              "    .colab-df-convert:hover {\n",
              "      background-color: #E2EBFA;\n",
              "      box-shadow: 0px 1px 2px rgba(60, 64, 67, 0.3), 0px 1px 3px 1px rgba(60, 64, 67, 0.15);\n",
              "      fill: #174EA6;\n",
              "    }\n",
              "\n",
              "    [theme=dark] .colab-df-convert {\n",
              "      background-color: #3B4455;\n",
              "      fill: #D2E3FC;\n",
              "    }\n",
              "\n",
              "    [theme=dark] .colab-df-convert:hover {\n",
              "      background-color: #434B5C;\n",
              "      box-shadow: 0px 1px 3px 1px rgba(0, 0, 0, 0.15);\n",
              "      filter: drop-shadow(0px 1px 2px rgba(0, 0, 0, 0.3));\n",
              "      fill: #FFFFFF;\n",
              "    }\n",
              "  </style>\n",
              "\n",
              "      <script>\n",
              "        const buttonEl =\n",
              "          document.querySelector('#df-280916ff-d4ac-45ce-ac93-36cde6e61c20 button.colab-df-convert');\n",
              "        buttonEl.style.display =\n",
              "          google.colab.kernel.accessAllowed ? 'block' : 'none';\n",
              "\n",
              "        async function convertToInteractive(key) {\n",
              "          const element = document.querySelector('#df-280916ff-d4ac-45ce-ac93-36cde6e61c20');\n",
              "          const dataTable =\n",
              "            await google.colab.kernel.invokeFunction('convertToInteractive',\n",
              "                                                     [key], {});\n",
              "          if (!dataTable) return;\n",
              "\n",
              "          const docLinkHtml = 'Like what you see? Visit the ' +\n",
              "            '<a target=\"_blank\" href=https://colab.research.google.com/notebooks/data_table.ipynb>data table notebook</a>'\n",
              "            + ' to learn more about interactive tables.';\n",
              "          element.innerHTML = '';\n",
              "          dataTable['output_type'] = 'display_data';\n",
              "          await google.colab.output.renderOutput(dataTable, element);\n",
              "          const docLink = document.createElement('div');\n",
              "          docLink.innerHTML = docLinkHtml;\n",
              "          element.appendChild(docLink);\n",
              "        }\n",
              "      </script>\n",
              "    </div>\n",
              "  </div>\n",
              "  "
            ]
          },
          "metadata": {},
          "execution_count": 131
        }
      ]
    },
    {
      "cell_type": "code",
      "source": [
        "# Votación mayoritaria\n",
        "y_pred = (y_pred_df.sum(axis=1) >= (n_estimators / 2)).astype(np.int)\n",
        "\n",
        "# Desempeño al hacer votación mayoritaria\n",
        "from sklearn import metrics\n",
        "ensamble_f1 = metrics.f1_score(y_pred, y_test)"
      ],
      "metadata": {
        "id": "Vbswmo_IlSVE"
      },
      "execution_count": 132,
      "outputs": []
    },
    {
      "cell_type": "code",
      "source": [
        "# Desempeño al hacer votación mayoritaria\n",
        "ensamble_acc = metrics.accuracy_score(y_pred, y_test)"
      ],
      "metadata": {
        "id": "Qt2mliE4lY6y"
      },
      "execution_count": 133,
      "outputs": []
    },
    {
      "cell_type": "code",
      "source": [
        "fig = plt.figure()\n",
        "ax = fig.add_axes([0,0,1,1])\n",
        "ax.set_title(\"Comparación de modelos ACCURACY\")\n",
        "ejeX = ['Modelo 1','Modelo 2',\"Modelo 3\",\"Ensamble\"]\n",
        "ejeY = [m1_acc,m2_acc,m3_acc,ensamble_acc]\n",
        "ax.bar(ejeX,ejeY)\n",
        "def addlabels(x,y,plotP):\n",
        "    for i in range(len(x)):\n",
        "        plotP.text(i,y[i],round(y[i],5))\n",
        "addlabels(ejeX,ejeY,plt)\n",
        "plt.show()"
      ],
      "metadata": {
        "colab": {
          "base_uri": "https://localhost:8080/",
          "height": 563
        },
        "id": "EdSX42nkmZO2",
        "outputId": "9f37a55e-dbf4-4ea5-c58e-0991463fb77c"
      },
      "execution_count": 134,
      "outputs": [
        {
          "output_type": "display_data",
          "data": {
            "text/plain": [
              "<Figure size 640x480 with 1 Axes>"
            ],
            "image/png": "[encoded data removed]"
          },
          "metadata": {}
        }
      ]
    },
    {
      "cell_type": "code",
      "source": [
        "fig = plt.figure()\n",
        "ax = fig.add_axes([0,0,1,1])\n",
        "ax.set_title(\"Comparación de modelos f1_score\")\n",
        "ejeX = ['Modelo 1','Modelo 2',\"Modelo 3\",\"Ensamble\"]\n",
        "ejeY = [m1_f1,m2_f1,m3_f1,ensamble_f1]\n",
        "ax.bar(ejeX,ejeY)\n",
        "def addlabels(x,y,plotP):\n",
        "    for i in range(len(x)):\n",
        "        plotP.text(i,y[i],round(y[i],5))\n",
        "addlabels(ejeX,ejeY,plt)\n",
        "plt.show()"
      ],
      "metadata": {
        "colab": {
          "base_uri": "https://localhost:8080/",
          "height": 563
        },
        "id": "y-5x7bdWnni6",
        "outputId": "caef4e39-034f-44d1-b8b5-e226b18d8f44"
      },
      "execution_count": 135,
      "outputs": [
        {
          "output_type": "display_data",
          "data": {
            "text/plain": [
              "<Figure size 640x480 with 1 Axes>"
            ],
            "image/png": "[encoded data removed]"
          },
          "metadata": {}
        }
      ]
    },
    {
      "cell_type": "markdown",
      "metadata": {
        "id": "Oo_XllxBxdwV"
      },
      "source": [
        "### Punto 8 - Votación Ponderada\n",
        "En la celda 8 elabore un ensamble con la metodología de **Votación ponderada** compuesto por 300 muestras bagged para los mismos tres escenarios del punto 7. Evalúe los modelos utilizando las métricas de Accuracy y F1-Score"
      ]
    },
    {
      "cell_type": "code",
      "source": [
        "#Celda #8\n",
        "\n",
        "#treesALL\n",
        "# Obtención de los pesos alpha de cada modelo de acuerdo al error OOB\n",
        "n_estimators = 100\n",
        "\n",
        "\n",
        "errors = np.zeros(n_estimators)\n",
        "y_pred_all_ = np.zeros((X_test.shape[0], n_estimators))\n",
        "\n",
        "for i in range(n_estimators):\n",
        "\n",
        "  clf = treesALL[i]\n",
        "  oob_sample = ~clf.estimators_samples_[i] #posible fix\n",
        " \n",
        "  #y_pred_ = clf.estimators_[i].predict(X_train.values[oob_sample])\n",
        "  y_pred_ = clf.estimators_[i].predict(X_train[oob_sample])\n",
        "  #errors[i] = metrics.accuracy_score(y_pred_, y_train.values[oob_sample])\n",
        "  errors[i] = metrics.accuracy_score(y_pred_, y_train[oob_sample])\n",
        "  y_pred_all_[:, i] = clf.estimators_[i].predict(X_test)\n",
        "    \n",
        "alpha = (1 - errors) / (1 - errors).sum()\n",
        "y_pred = (np.sum(y_pred_all_ * alpha, axis=1) >= 0.5).astype(np.int)\n",
        "\n",
        "\n",
        "# Desempeño al hacer votación ponderada\n",
        "metrics.f1_score(y_pred, y_test), metrics.accuracy_score(y_pred, y_test)"
      ],
      "metadata": {
        "colab": {
          "base_uri": "https://localhost:8080/"
        },
        "id": "3o-3jwito-4i",
        "outputId": "c4953e26-8696-4830-b7a0-fea5e513fb8b"
      },
      "execution_count": 143,
      "outputs": [
        {
          "output_type": "execute_result",
          "data": {
            "text/plain": [
              "(0.888888888888889, 0.88)"
            ]
          },
          "metadata": {},
          "execution_count": 143
        }
      ]
    },
    {
      "cell_type": "code",
      "source": [
        "#Celda #8\n",
        "\n",
        "#treesALL\n",
        "# Obtención de los pesos alpha de cada modelo de acuerdo al error OOB\n",
        "n_estimators = 300\n",
        "n_estimators2 = 100\n",
        "\n",
        "\n",
        "errors = np.zeros(n_estimators)\n",
        "y_pred_all_ = np.zeros((X_test.shape[0], n_estimators))\n",
        "\n",
        "for i in range(n_estimators):\n",
        "  for p in range(n_estimators2):\n",
        "    clf = treesALL[i]\n",
        "    oob_sample = ~clf.estimators_samples_[p] #puede ser i\n",
        "    y_pred_ = clf.estimators_[p].predict(X_train[oob_sample])\n",
        "    errors[i] = metrics.accuracy_score(y_pred_, y_train[oob_sample])\n",
        "    y_pred_all_[:, i] = clf.estimators_[p].predict(X_test)\n",
        "    \n",
        "alpha = (1 - errors) / (1 - errors).sum()\n",
        "y_pred = (np.sum(y_pred_all_ * alpha, axis=1) >= 0.5).astype(np.int)\n"
      ],
      "metadata": {
        "id": "flXXZYmao-yT"
      },
      "execution_count": null,
      "outputs": []
    },
    {
      "cell_type": "code",
      "source": [
        "Ensamblaje2_f1 = metrics.f1_score(y_pred, y_test), \n",
        "Ensamblaje2_ACC = metrics.accuracy_score(y_pred, y_test)\n",
        "\n",
        "print(\"Accuracy:\", Ensamblaje2_ACC)\n",
        "print(\"F1-Score:\", Ensamblaje2_f1)"
      ],
      "metadata": {
        "colab": {
          "base_uri": "https://localhost:8080/"
        },
        "id": "eTKiFXWP2EKZ",
        "outputId": "bd721c0b-e7eb-40df-8bb3-439253ba5cf7"
      },
      "execution_count": 146,
      "outputs": [
        {
          "output_type": "stream",
          "name": "stdout",
          "text": [
            "Accuracy: 0.86\n",
            "F1-Score: (0.8666666666666667,)\n"
          ]
        }
      ]
    },
    {
      "cell_type": "markdown",
      "metadata": {
        "id": "Vc1FCLdhxdwW"
      },
      "source": [
        "### Punto 9 - Comparación y análisis de resultados\n",
        "En la celda 9 comente sobre los resultados obtenidos con las metodologías usadas en los puntos 7 y 8, compare los resultados y enuncie posibles ventajas o desventajas de cada una de ellas."
      ]
    },
    {
      "cell_type": "code",
      "execution_count": 147,
      "metadata": {
        "id": "_GWSS0jZxdwW",
        "colab": {
          "base_uri": "https://localhost:8080/",
          "height": 563
        },
        "outputId": "14abb788-6c9e-4312-be7c-1c34e01cd79b"
      },
      "outputs": [
        {
          "output_type": "display_data",
          "data": {
            "text/plain": [
              "<Figure size 640x480 with 1 Axes>"
            ],
            "image/png": "[encoded data removed]"
          },
          "metadata": {}
        }
      ],
      "source": [
        "fig = plt.figure()\n",
        "ax = fig.add_axes([0,0,1,1])\n",
        "ax.set_title(\"Comparación de modelos ACCURACY\")\n",
        "ejeX = ['Modelo 1','Modelo 2',\"Modelo 3\",\"V. Mayoritaria\",\"V. Ponderada\"]\n",
        "ejeY = [m1_acc,m2_acc,m3_acc,ensamble_acc, Ensamblaje2_ACC]\n",
        "ax.bar(ejeX,ejeY)\n",
        "def addlabels(x,y,plotP):\n",
        "    for i in range(len(x)):\n",
        "        plotP.text(i,y[i],round(y[i],5))\n",
        "addlabels(ejeX,ejeY,plt)\n",
        "plt.show()"
      ]
    }
  ],
  "metadata": {
    "kernelspec": {
      "display_name": "Python 3 (ipykernel)",
      "language": "python",
      "name": "python3"
    },
    "language_info": {
      "codemirror_mode": {
        "name": "ipython",
        "version": 3
      },
      "file_extension": ".py",
      "mimetype": "text/x-python",
      "name": "python",
      "nbconvert_exporter": "python",
      "pygments_lexer": "ipython3",
      "version": "3.9.12"
    },
    "colab": {
      "provenance": []
    }
  },
  "nbformat": 4,
  "nbformat_minor": 0
}